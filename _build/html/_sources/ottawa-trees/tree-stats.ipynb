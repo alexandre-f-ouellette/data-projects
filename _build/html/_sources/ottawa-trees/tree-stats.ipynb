{
 "cells": [
  {
   "cell_type": "markdown",
   "metadata": {},
   "source": [
    "# Basic Tree Stats\n",
    "\n",
    "## Project Description\n",
    "\n",
    "In this project, I will be using tree inventory data from Ottawa Open Data to practice data analysis and data visualization work in Python.\n",
    "\n",
    "*Contains information licensed under the Open Government Licence – City of Ottawa*"
   ]
  },
  {
   "cell_type": "code",
   "execution_count": 1,
   "metadata": {
    "tags": [
     "hide-input",
     "hide-output"
    ]
   },
   "outputs": [
    {
     "name": "stderr",
     "output_type": "stream",
     "text": [
      "/tmp/ipykernel_16157/3050844523.py:5: DtypeWarning: Columns (4,16) have mixed types. Specify dtype option on import or set low_memory=False.\n",
      "  trees = pd.read_csv(\"data/tree_inventory.csv\")\n"
     ]
    }
   ],
   "source": [
    "import pandas as pd\n",
    "import plotly.express as px\n",
    "\n",
    "# Contains information licensed under the Open Government Licence – City of Ottawa\n",
    "trees = pd.read_csv(\"data/tree_inventory.csv\")"
   ]
  },
  {
   "cell_type": "code",
   "execution_count": null,
   "metadata": {},
   "outputs": [
    {
     "data": {
      "text/html": [
       "<div>\n",
       "<style scoped>\n",
       "    .dataframe tbody tr th:only-of-type {\n",
       "        vertical-align: middle;\n",
       "    }\n",
       "\n",
       "    .dataframe tbody tr th {\n",
       "        vertical-align: top;\n",
       "    }\n",
       "\n",
       "    .dataframe thead th {\n",
       "        text-align: right;\n",
       "    }\n",
       "</style>\n",
       "<table border=\"1\" class=\"dataframe\">\n",
       "  <thead>\n",
       "    <tr style=\"text-align: right;\">\n",
       "      <th></th>\n",
       "      <th>X</th>\n",
       "      <th>Y</th>\n",
       "      <th>OBJECTID</th>\n",
       "      <th>WARD</th>\n",
       "      <th>ADDNUM</th>\n",
       "      <th>ADDSTR</th>\n",
       "      <th>LTLOCATION</th>\n",
       "      <th>RDLOCATION</th>\n",
       "      <th>FACILITY</th>\n",
       "      <th>EDGETREE</th>\n",
       "      <th>PATHTRAIL</th>\n",
       "      <th>SPECIES</th>\n",
       "      <th>DBH</th>\n",
       "      <th>TREATMENT</th>\n",
       "      <th>EABTAGNUMBER</th>\n",
       "      <th>DEDTAGNUMBER</th>\n",
       "      <th>SAP_ID</th>\n",
       "      <th>PROGRAM</th>\n",
       "      <th>species_general</th>\n",
       "    </tr>\n",
       "  </thead>\n",
       "  <tbody>\n",
       "    <tr>\n",
       "      <th>0</th>\n",
       "      <td>-8.424807e+06</td>\n",
       "      <td>5.689722e+06</td>\n",
       "      <td>63887</td>\n",
       "      <td>12</td>\n",
       "      <td>151</td>\n",
       "      <td>CHAPEL ST</td>\n",
       "      <td>Front</td>\n",
       "      <td>NaN</td>\n",
       "      <td>0.0</td>\n",
       "      <td>0.0</td>\n",
       "      <td>0.0</td>\n",
       "      <td>Linden Littleleaf</td>\n",
       "      <td>45.0</td>\n",
       "      <td>NaN</td>\n",
       "      <td>NaN</td>\n",
       "      <td>NaN</td>\n",
       "      <td>8113295</td>\n",
       "      <td>NaN</td>\n",
       "      <td>Linden</td>\n",
       "    </tr>\n",
       "    <tr>\n",
       "      <th>1</th>\n",
       "      <td>-8.424802e+06</td>\n",
       "      <td>5.689690e+06</td>\n",
       "      <td>63888</td>\n",
       "      <td>12</td>\n",
       "      <td>151</td>\n",
       "      <td>CHAPEL ST</td>\n",
       "      <td>Front</td>\n",
       "      <td>NaN</td>\n",
       "      <td>0.0</td>\n",
       "      <td>0.0</td>\n",
       "      <td>0.0</td>\n",
       "      <td>Maple Manitoba</td>\n",
       "      <td>66.0</td>\n",
       "      <td>NaN</td>\n",
       "      <td>NaN</td>\n",
       "      <td>NaN</td>\n",
       "      <td>8113293</td>\n",
       "      <td>NaN</td>\n",
       "      <td>Maple</td>\n",
       "    </tr>\n",
       "    <tr>\n",
       "      <th>2</th>\n",
       "      <td>-8.424815e+06</td>\n",
       "      <td>5.689689e+06</td>\n",
       "      <td>63889</td>\n",
       "      <td>12</td>\n",
       "      <td>151</td>\n",
       "      <td>CHAPEL ST</td>\n",
       "      <td>Front</td>\n",
       "      <td>NaN</td>\n",
       "      <td>0.0</td>\n",
       "      <td>0.0</td>\n",
       "      <td>0.0</td>\n",
       "      <td>Maple Manitoba</td>\n",
       "      <td>62.0</td>\n",
       "      <td>NaN</td>\n",
       "      <td>NaN</td>\n",
       "      <td>NaN</td>\n",
       "      <td>8113292</td>\n",
       "      <td>NaN</td>\n",
       "      <td>Maple</td>\n",
       "    </tr>\n",
       "    <tr>\n",
       "      <th>3</th>\n",
       "      <td>-8.424782e+06</td>\n",
       "      <td>5.689649e+06</td>\n",
       "      <td>63890</td>\n",
       "      <td>12</td>\n",
       "      <td>153</td>\n",
       "      <td>CHAPEL ST</td>\n",
       "      <td>Front</td>\n",
       "      <td>NaN</td>\n",
       "      <td>0.0</td>\n",
       "      <td>0.0</td>\n",
       "      <td>0.0</td>\n",
       "      <td>Linden Littleleaf</td>\n",
       "      <td>26.0</td>\n",
       "      <td>NaN</td>\n",
       "      <td>NaN</td>\n",
       "      <td>NaN</td>\n",
       "      <td>8113306</td>\n",
       "      <td>NaN</td>\n",
       "      <td>Linden</td>\n",
       "    </tr>\n",
       "    <tr>\n",
       "      <th>4</th>\n",
       "      <td>-8.424769e+06</td>\n",
       "      <td>5.689638e+06</td>\n",
       "      <td>63891</td>\n",
       "      <td>12</td>\n",
       "      <td>153</td>\n",
       "      <td>CHAPEL ST</td>\n",
       "      <td>Front</td>\n",
       "      <td>NaN</td>\n",
       "      <td>0.0</td>\n",
       "      <td>0.0</td>\n",
       "      <td>0.0</td>\n",
       "      <td>Linden Littleleaf</td>\n",
       "      <td>31.0</td>\n",
       "      <td>NaN</td>\n",
       "      <td>NaN</td>\n",
       "      <td>NaN</td>\n",
       "      <td>8113305</td>\n",
       "      <td>NaN</td>\n",
       "      <td>Linden</td>\n",
       "    </tr>\n",
       "  </tbody>\n",
       "</table>\n",
       "</div>"
      ],
      "text/plain": [
       "              X             Y  OBJECTID  WARD ADDNUM     ADDSTR LTLOCATION  \\\n",
       "0 -8.424807e+06  5.689722e+06     63887    12    151  CHAPEL ST      Front   \n",
       "1 -8.424802e+06  5.689690e+06     63888    12    151  CHAPEL ST      Front   \n",
       "2 -8.424815e+06  5.689689e+06     63889    12    151  CHAPEL ST      Front   \n",
       "3 -8.424782e+06  5.689649e+06     63890    12    153  CHAPEL ST      Front   \n",
       "4 -8.424769e+06  5.689638e+06     63891    12    153  CHAPEL ST      Front   \n",
       "\n",
       "  RDLOCATION  FACILITY  EDGETREE  PATHTRAIL            SPECIES   DBH  \\\n",
       "0        NaN       0.0       0.0        0.0  Linden Littleleaf  45.0   \n",
       "1        NaN       0.0       0.0        0.0     Maple Manitoba  66.0   \n",
       "2        NaN       0.0       0.0        0.0     Maple Manitoba  62.0   \n",
       "3        NaN       0.0       0.0        0.0  Linden Littleleaf  26.0   \n",
       "4        NaN       0.0       0.0        0.0  Linden Littleleaf  31.0   \n",
       "\n",
       "  TREATMENT  EABTAGNUMBER  DEDTAGNUMBER   SAP_ID PROGRAM species_general  \n",
       "0       NaN           NaN           NaN  8113295     NaN          Linden  \n",
       "1       NaN           NaN           NaN  8113293     NaN           Maple  \n",
       "2       NaN           NaN           NaN  8113292     NaN           Maple  \n",
       "3       NaN           NaN           NaN  8113306     NaN          Linden  \n",
       "4       NaN           NaN           NaN  8113305     NaN          Linden  "
      ]
     },
     "execution_count": 58,
     "metadata": {},
     "output_type": "execute_result"
    }
   ],
   "source": [
    "# Data Cleanup / Transform\n",
    "\n",
    "# basic extraction of species\n",
    "trees[\"species_general\"] = trees[\"SPECIES\"].str.split(\" \").str[0]\n",
    "\n",
    "trees.head()"
   ]
  },
  {
   "cell_type": "code",
   "execution_count": null,
   "metadata": {},
   "outputs": [
    {
     "data": {
      "application/vnd.plotly.v1+json": {
       "config": {
        "plotlyServerURL": "https://plot.ly"
       },
       "data": [
        {
         "alignmentgroup": "True",
         "hovertemplate": "species_general=Accolade<br>WARD=%{x}<br>count=%{y}<extra></extra>",
         "legendgroup": "Accolade",
         "marker": {
          "color": "#636efa",
          "pattern": {
           "shape": ""
          }
         },
         "name": "Accolade",
         "offsetgroup": "Accolade",
         "orientation": "v",
         "showlegend": true,
         "textposition": "auto",
         "type": "bar",
         "x": [
          1,
          2,
          3,
          4,
          6,
          7,
          8,
          9,
          10,
          12,
          14,
          15,
          16,
          19,
          21,
          22,
          23,
          24
         ],
         "xaxis": "x",
         "y": [
          3,
          8,
          13,
          4,
          4,
          5,
          12,
          4,
          4,
          4,
          3,
          1,
          3,
          5,
          3,
          2,
          5,
          18
         ],
         "yaxis": "y"
        },
        {
         "alignmentgroup": "True",
         "hovertemplate": "species_general=Alder<br>WARD=%{x}<br>count=%{y}<extra></extra>",
         "legendgroup": "Alder",
         "marker": {
          "color": "#EF553B",
          "pattern": {
           "shape": ""
          }
         },
         "name": "Alder",
         "offsetgroup": "Alder",
         "orientation": "v",
         "showlegend": true,
         "textposition": "auto",
         "type": "bar",
         "x": [
          3,
          5,
          6,
          7,
          16,
          17,
          18,
          19,
          20,
          21,
          22,
          23
         ],
         "xaxis": "x",
         "y": [
          7,
          1,
          1,
          1,
          1,
          4,
          4,
          5,
          1,
          7,
          2,
          1
         ],
         "yaxis": "y"
        },
        {
         "alignmentgroup": "True",
         "hovertemplate": "species_general=Almond<br>WARD=%{x}<br>count=%{y}<extra></extra>",
         "legendgroup": "Almond",
         "marker": {
          "color": "#00cc96",
          "pattern": {
           "shape": ""
          }
         },
         "name": "Almond",
         "offsetgroup": "Almond",
         "orientation": "v",
         "showlegend": true,
         "textposition": "auto",
         "type": "bar",
         "x": [
          1,
          8
         ],
         "xaxis": "x",
         "y": [
          1,
          1
         ],
         "yaxis": "y"
        },
        {
         "alignmentgroup": "True",
         "hovertemplate": "species_general=Alternate-leaved<br>WARD=%{x}<br>count=%{y}<extra></extra>",
         "legendgroup": "Alternate-leaved",
         "marker": {
          "color": "#ab63fa",
          "pattern": {
           "shape": ""
          }
         },
         "name": "Alternate-leaved",
         "offsetgroup": "Alternate-leaved",
         "orientation": "v",
         "showlegend": true,
         "textposition": "auto",
         "type": "bar",
         "x": [
          1,
          4,
          6,
          7,
          9,
          17,
          20
         ],
         "xaxis": "x",
         "y": [
          1,
          4,
          2,
          1,
          2,
          2,
          4
         ],
         "yaxis": "y"
        },
        {
         "alignmentgroup": "True",
         "hovertemplate": "species_general=Amur<br>WARD=%{x}<br>count=%{y}<extra></extra>",
         "legendgroup": "Amur",
         "marker": {
          "color": "#FFA15A",
          "pattern": {
           "shape": ""
          }
         },
         "name": "Amur",
         "offsetgroup": "Amur",
         "orientation": "v",
         "showlegend": true,
         "textposition": "auto",
         "type": "bar",
         "x": [
          1,
          2,
          3,
          4,
          5,
          6,
          7,
          8,
          9,
          10,
          11,
          12,
          13,
          14,
          15,
          16,
          17,
          18,
          19,
          20,
          21,
          22,
          23,
          24
         ],
         "xaxis": "x",
         "y": [
          10,
          14,
          28,
          17,
          1,
          30,
          14,
          28,
          25,
          28,
          8,
          10,
          10,
          8,
          8,
          10,
          12,
          10,
          31,
          7,
          6,
          27,
          17,
          23
         ],
         "yaxis": "y"
        },
        {
         "alignmentgroup": "True",
         "hovertemplate": "species_general=Apple<br>WARD=%{x}<br>count=%{y}<extra></extra>",
         "legendgroup": "Apple",
         "marker": {
          "color": "#19d3f3",
          "pattern": {
           "shape": ""
          }
         },
         "name": "Apple",
         "offsetgroup": "Apple",
         "orientation": "v",
         "showlegend": true,
         "textposition": "auto",
         "type": "bar",
         "x": [
          1,
          2,
          3,
          4,
          5,
          6,
          7,
          8,
          9,
          10,
          11,
          12,
          13,
          14,
          15,
          16,
          17,
          18,
          19,
          20,
          21,
          22,
          23,
          24
         ],
         "xaxis": "x",
         "y": [
          47,
          30,
          47,
          62,
          125,
          31,
          32,
          33,
          58,
          61,
          29,
          25,
          33,
          24,
          41,
          50,
          84,
          30,
          45,
          150,
          263,
          22,
          66,
          63
         ],
         "yaxis": "y"
        },
        {
         "alignmentgroup": "True",
         "hovertemplate": "species_general=Ash<br>WARD=%{x}<br>count=%{y}<extra></extra>",
         "legendgroup": "Ash",
         "marker": {
          "color": "#FF6692",
          "pattern": {
           "shape": ""
          }
         },
         "name": "Ash",
         "offsetgroup": "Ash",
         "orientation": "v",
         "showlegend": true,
         "textposition": "auto",
         "type": "bar",
         "x": [
          1,
          2,
          3,
          4,
          5,
          6,
          7,
          8,
          9,
          10,
          11,
          12,
          13,
          14,
          15,
          16,
          17,
          18,
          19,
          20,
          21,
          22,
          23,
          24
         ],
         "xaxis": "x",
         "y": [
          716,
          578,
          732,
          1326,
          1603,
          271,
          977,
          1509,
          509,
          1219,
          511,
          712,
          1213,
          269,
          417,
          1368,
          505,
          2278,
          1080,
          600,
          3558,
          254,
          1332,
          1580
         ],
         "yaxis": "y"
        },
        {
         "alignmentgroup": "True",
         "hovertemplate": "species_general=Aspen<br>WARD=%{x}<br>count=%{y}<extra></extra>",
         "legendgroup": "Aspen",
         "marker": {
          "color": "#B6E880",
          "pattern": {
           "shape": ""
          }
         },
         "name": "Aspen",
         "offsetgroup": "Aspen",
         "orientation": "v",
         "showlegend": true,
         "textposition": "auto",
         "type": "bar",
         "x": [
          1,
          2,
          3,
          4,
          5,
          6,
          7,
          8,
          9,
          10,
          11,
          12,
          13,
          14,
          15,
          16,
          17,
          18,
          19,
          20,
          21,
          22,
          23,
          24
         ],
         "xaxis": "x",
         "y": [
          231,
          101,
          44,
          62,
          443,
          45,
          25,
          39,
          62,
          243,
          16,
          8,
          20,
          6,
          4,
          31,
          9,
          17,
          309,
          476,
          1060,
          30,
          54,
          24
         ],
         "yaxis": "y"
        },
        {
         "alignmentgroup": "True",
         "hovertemplate": "species_general=Basswood<br>WARD=%{x}<br>count=%{y}<extra></extra>",
         "legendgroup": "Basswood",
         "marker": {
          "color": "#FF97FF",
          "pattern": {
           "shape": ""
          }
         },
         "name": "Basswood",
         "offsetgroup": "Basswood",
         "orientation": "v",
         "showlegend": true,
         "textposition": "auto",
         "type": "bar",
         "x": [
          1,
          2,
          3,
          4,
          5,
          6,
          7,
          8,
          9,
          10,
          11,
          12,
          13,
          14,
          15,
          16,
          17,
          18,
          19,
          20,
          21,
          22,
          23,
          24
         ],
         "xaxis": "x",
         "y": [
          120,
          118,
          141,
          143,
          262,
          142,
          108,
          136,
          94,
          137,
          84,
          81,
          163,
          156,
          82,
          78,
          139,
          137,
          298,
          109,
          416,
          104,
          136,
          281
         ],
         "yaxis": "y"
        },
        {
         "alignmentgroup": "True",
         "hovertemplate": "species_general=Beech<br>WARD=%{x}<br>count=%{y}<extra></extra>",
         "legendgroup": "Beech",
         "marker": {
          "color": "#FECB52",
          "pattern": {
           "shape": ""
          }
         },
         "name": "Beech",
         "offsetgroup": "Beech",
         "orientation": "v",
         "showlegend": true,
         "textposition": "auto",
         "type": "bar",
         "x": [
          1,
          2,
          3,
          4,
          5,
          6,
          7,
          8,
          9,
          10,
          11,
          12,
          13,
          14,
          15,
          16,
          17,
          18,
          19,
          20,
          21,
          22,
          23,
          24
         ],
         "xaxis": "x",
         "y": [
          28,
          29,
          32,
          26,
          4,
          43,
          17,
          14,
          23,
          43,
          16,
          14,
          48,
          5,
          10,
          12,
          11,
          17,
          66,
          9,
          30,
          44,
          11,
          8
         ],
         "yaxis": "y"
        },
        {
         "alignmentgroup": "True",
         "hovertemplate": "species_general=Birch<br>WARD=%{x}<br>count=%{y}<extra></extra>",
         "legendgroup": "Birch",
         "marker": {
          "color": "#636efa",
          "pattern": {
           "shape": ""
          }
         },
         "name": "Birch",
         "offsetgroup": "Birch",
         "orientation": "v",
         "showlegend": true,
         "textposition": "auto",
         "type": "bar",
         "x": [
          1,
          2,
          3,
          4,
          5,
          6,
          7,
          8,
          9,
          10,
          11,
          12,
          13,
          14,
          15,
          16,
          17,
          18,
          19,
          20,
          21,
          22,
          23,
          24
         ],
         "xaxis": "x",
         "y": [
          66,
          118,
          118,
          159,
          122,
          91,
          90,
          186,
          191,
          60,
          78,
          38,
          81,
          32,
          89,
          63,
          46,
          73,
          123,
          215,
          302,
          46,
          134,
          37
         ],
         "yaxis": "y"
        },
        {
         "alignmentgroup": "True",
         "hovertemplate": "species_general=Buckeye<br>WARD=%{x}<br>count=%{y}<extra></extra>",
         "legendgroup": "Buckeye",
         "marker": {
          "color": "#EF553B",
          "pattern": {
           "shape": ""
          }
         },
         "name": "Buckeye",
         "offsetgroup": "Buckeye",
         "orientation": "v",
         "showlegend": true,
         "textposition": "auto",
         "type": "bar",
         "x": [
          1,
          2,
          3,
          4,
          5,
          6,
          7,
          8,
          9,
          10,
          11,
          12,
          13,
          14,
          15,
          16,
          17,
          18,
          19,
          20,
          21,
          22,
          23,
          24
         ],
         "xaxis": "x",
         "y": [
          30,
          10,
          6,
          23,
          4,
          6,
          25,
          11,
          9,
          13,
          14,
          8,
          19,
          2,
          13,
          19,
          7,
          22,
          8,
          1,
          8,
          6,
          16,
          58
         ],
         "yaxis": "y"
        },
        {
         "alignmentgroup": "True",
         "hovertemplate": "species_general=Butternut<br>WARD=%{x}<br>count=%{y}<extra></extra>",
         "legendgroup": "Butternut",
         "marker": {
          "color": "#00cc96",
          "pattern": {
           "shape": ""
          }
         },
         "name": "Butternut",
         "offsetgroup": "Butternut",
         "orientation": "v",
         "showlegend": true,
         "textposition": "auto",
         "type": "bar",
         "x": [
          1,
          2,
          3,
          4,
          5,
          6,
          7,
          8,
          9,
          10,
          11,
          12,
          13,
          15,
          16,
          17,
          18,
          19,
          20,
          21,
          22,
          23,
          24
         ],
         "xaxis": "x",
         "y": [
          10,
          24,
          10,
          8,
          23,
          51,
          12,
          14,
          7,
          6,
          2,
          2,
          20,
          4,
          11,
          16,
          8,
          20,
          17,
          48,
          12,
          25,
          6
         ],
         "yaxis": "y"
        },
        {
         "alignmentgroup": "True",
         "hovertemplate": "species_general=Canadian<br>WARD=%{x}<br>count=%{y}<extra></extra>",
         "legendgroup": "Canadian",
         "marker": {
          "color": "#ab63fa",
          "pattern": {
           "shape": ""
          }
         },
         "name": "Canadian",
         "offsetgroup": "Canadian",
         "orientation": "v",
         "showlegend": true,
         "textposition": "auto",
         "type": "bar",
         "x": [
          2,
          3,
          9,
          16,
          23
         ],
         "xaxis": "x",
         "y": [
          1,
          2,
          2,
          1,
          2
         ],
         "yaxis": "y"
        },
        {
         "alignmentgroup": "True",
         "hovertemplate": "species_general=Catalpa<br>WARD=%{x}<br>count=%{y}<extra></extra>",
         "legendgroup": "Catalpa",
         "marker": {
          "color": "#FFA15A",
          "pattern": {
           "shape": ""
          }
         },
         "name": "Catalpa",
         "offsetgroup": "Catalpa",
         "orientation": "v",
         "showlegend": true,
         "textposition": "auto",
         "type": "bar",
         "x": [
          1,
          2,
          3,
          4,
          5,
          6,
          7,
          8,
          9,
          10,
          11,
          12,
          13,
          14,
          15,
          16,
          17,
          18,
          19,
          20,
          21,
          22,
          23,
          24
         ],
         "xaxis": "x",
         "y": [
          22,
          26,
          49,
          23,
          4,
          38,
          82,
          67,
          43,
          39,
          13,
          37,
          26,
          6,
          44,
          29,
          48,
          48,
          37,
          1,
          36,
          10,
          21,
          16
         ],
         "yaxis": "y"
        },
        {
         "alignmentgroup": "True",
         "hovertemplate": "species_general=Cedar<br>WARD=%{x}<br>count=%{y}<extra></extra>",
         "legendgroup": "Cedar",
         "marker": {
          "color": "#19d3f3",
          "pattern": {
           "shape": ""
          }
         },
         "name": "Cedar",
         "offsetgroup": "Cedar",
         "orientation": "v",
         "showlegend": true,
         "textposition": "auto",
         "type": "bar",
         "x": [
          1,
          2,
          3,
          4,
          5,
          6,
          7,
          8,
          9,
          10,
          11,
          12,
          13,
          14,
          15,
          16,
          17,
          18,
          19,
          20,
          21,
          22,
          23,
          24
         ],
         "xaxis": "x",
         "y": [
          275,
          136,
          105,
          259,
          651,
          195,
          98,
          110,
          81,
          58,
          54,
          103,
          132,
          38,
          124,
          164,
          121,
          88,
          163,
          197,
          855,
          125,
          362,
          163
         ],
         "yaxis": "y"
        },
        {
         "alignmentgroup": "True",
         "hovertemplate": "species_general=Cherry<br>WARD=%{x}<br>count=%{y}<extra></extra>",
         "legendgroup": "Cherry",
         "marker": {
          "color": "#FF6692",
          "pattern": {
           "shape": ""
          }
         },
         "name": "Cherry",
         "offsetgroup": "Cherry",
         "orientation": "v",
         "showlegend": true,
         "textposition": "auto",
         "type": "bar",
         "x": [
          1,
          2,
          3,
          4,
          5,
          6,
          7,
          8,
          9,
          10,
          11,
          12,
          13,
          14,
          15,
          16,
          17,
          18,
          19,
          20,
          21,
          22,
          23,
          24
         ],
         "xaxis": "x",
         "y": [
          90,
          77,
          79,
          235,
          90,
          57,
          89,
          93,
          107,
          196,
          37,
          145,
          136,
          164,
          282,
          144,
          260,
          155,
          180,
          78,
          115,
          48,
          180,
          388
         ],
         "yaxis": "y"
        },
        {
         "alignmentgroup": "True",
         "hovertemplate": "species_general=Chinkapin<br>WARD=%{x}<br>count=%{y}<extra></extra>",
         "legendgroup": "Chinkapin",
         "marker": {
          "color": "#B6E880",
          "pattern": {
           "shape": ""
          }
         },
         "name": "Chinkapin",
         "offsetgroup": "Chinkapin",
         "orientation": "v",
         "showlegend": true,
         "textposition": "auto",
         "type": "bar",
         "x": [
          5,
          16,
          23
         ],
         "xaxis": "x",
         "y": [
          1,
          3,
          4
         ],
         "yaxis": "y"
        },
        {
         "alignmentgroup": "True",
         "hovertemplate": "species_general=Chokeberry<br>WARD=%{x}<br>count=%{y}<extra></extra>",
         "legendgroup": "Chokeberry",
         "marker": {
          "color": "#FF97FF",
          "pattern": {
           "shape": ""
          }
         },
         "name": "Chokeberry",
         "offsetgroup": "Chokeberry",
         "orientation": "v",
         "showlegend": true,
         "textposition": "auto",
         "type": "bar",
         "x": [
          23
         ],
         "xaxis": "x",
         "y": [
          7
         ],
         "yaxis": "y"
        },
        {
         "alignmentgroup": "True",
         "hovertemplate": "species_general=Coffeetree<br>WARD=%{x}<br>count=%{y}<extra></extra>",
         "legendgroup": "Coffeetree",
         "marker": {
          "color": "#FECB52",
          "pattern": {
           "shape": ""
          }
         },
         "name": "Coffeetree",
         "offsetgroup": "Coffeetree",
         "orientation": "v",
         "showlegend": true,
         "textposition": "auto",
         "type": "bar",
         "x": [
          1,
          2,
          3,
          4,
          5,
          6,
          7,
          8,
          9,
          10,
          11,
          12,
          13,
          14,
          15,
          16,
          17,
          18,
          19,
          20,
          21,
          22,
          23,
          24
         ],
         "xaxis": "x",
         "y": [
          33,
          46,
          63,
          38,
          8,
          54,
          59,
          36,
          43,
          60,
          12,
          27,
          10,
          6,
          21,
          29,
          16,
          32,
          14,
          2,
          31,
          48,
          58,
          36
         ],
         "yaxis": "y"
        },
        {
         "alignmentgroup": "True",
         "hovertemplate": "species_general=Cottonwood<br>WARD=%{x}<br>count=%{y}<extra></extra>",
         "legendgroup": "Cottonwood",
         "marker": {
          "color": "#636efa",
          "pattern": {
           "shape": ""
          }
         },
         "name": "Cottonwood",
         "offsetgroup": "Cottonwood",
         "orientation": "v",
         "showlegend": true,
         "textposition": "auto",
         "type": "bar",
         "x": [
          1,
          2,
          3,
          4,
          5,
          6,
          7,
          8,
          9,
          10,
          11,
          12,
          13,
          14,
          15,
          16,
          17,
          18,
          19,
          20,
          21,
          22,
          23,
          24
         ],
         "xaxis": "x",
         "y": [
          129,
          31,
          6,
          25,
          134,
          16,
          209,
          7,
          25,
          50,
          18,
          12,
          14,
          1,
          27,
          78,
          46,
          26,
          102,
          133,
          347,
          4,
          22,
          23
         ],
         "yaxis": "y"
        },
        {
         "alignmentgroup": "True",
         "hovertemplate": "species_general=Crabapple<br>WARD=%{x}<br>count=%{y}<extra></extra>",
         "legendgroup": "Crabapple",
         "marker": {
          "color": "#EF553B",
          "pattern": {
           "shape": ""
          }
         },
         "name": "Crabapple",
         "offsetgroup": "Crabapple",
         "orientation": "v",
         "showlegend": true,
         "textposition": "auto",
         "type": "bar",
         "x": [
          1,
          2,
          3,
          4,
          5,
          6,
          7,
          8,
          9,
          10,
          11,
          12,
          13,
          14,
          15,
          16,
          17,
          18,
          19,
          20,
          21,
          22,
          23,
          24
         ],
         "xaxis": "x",
         "y": [
          293,
          236,
          698,
          593,
          105,
          405,
          412,
          462,
          520,
          623,
          257,
          261,
          470,
          303,
          552,
          390,
          431,
          396,
          800,
          77,
          421,
          779,
          787,
          475
         ],
         "yaxis": "y"
        },
        {
         "alignmentgroup": "True",
         "hovertemplate": "species_general=Dawn<br>WARD=%{x}<br>count=%{y}<extra></extra>",
         "legendgroup": "Dawn",
         "marker": {
          "color": "#00cc96",
          "pattern": {
           "shape": ""
          }
         },
         "name": "Dawn",
         "offsetgroup": "Dawn",
         "orientation": "v",
         "showlegend": true,
         "textposition": "auto",
         "type": "bar",
         "x": [
          5,
          8
         ],
         "xaxis": "x",
         "y": [
          1,
          1
         ],
         "yaxis": "y"
        },
        {
         "alignmentgroup": "True",
         "hovertemplate": "species_general=Dogwood<br>WARD=%{x}<br>count=%{y}<extra></extra>",
         "legendgroup": "Dogwood",
         "marker": {
          "color": "#ab63fa",
          "pattern": {
           "shape": ""
          }
         },
         "name": "Dogwood",
         "offsetgroup": "Dogwood",
         "orientation": "v",
         "showlegend": true,
         "textposition": "auto",
         "type": "bar",
         "x": [
          1,
          2,
          4,
          9,
          13,
          17,
          19,
          20,
          21,
          23
         ],
         "xaxis": "x",
         "y": [
          2,
          1,
          1,
          2,
          1,
          1,
          2,
          6,
          8,
          1
         ],
         "yaxis": "y"
        },
        {
         "alignmentgroup": "True",
         "hovertemplate": "species_general=Elderberry<br>WARD=%{x}<br>count=%{y}<extra></extra>",
         "legendgroup": "Elderberry",
         "marker": {
          "color": "#FFA15A",
          "pattern": {
           "shape": ""
          }
         },
         "name": "Elderberry",
         "offsetgroup": "Elderberry",
         "orientation": "v",
         "showlegend": true,
         "textposition": "auto",
         "type": "bar",
         "x": [
          1,
          2,
          3,
          4,
          6,
          7,
          8,
          9,
          15,
          18,
          23
         ],
         "xaxis": "x",
         "y": [
          1,
          1,
          1,
          2,
          2,
          2,
          1,
          8,
          1,
          3,
          4
         ],
         "yaxis": "y"
        },
        {
         "alignmentgroup": "True",
         "hovertemplate": "species_general=Elm<br>WARD=%{x}<br>count=%{y}<extra></extra>",
         "legendgroup": "Elm",
         "marker": {
          "color": "#19d3f3",
          "pattern": {
           "shape": ""
          }
         },
         "name": "Elm",
         "offsetgroup": "Elm",
         "orientation": "v",
         "showlegend": true,
         "textposition": "auto",
         "type": "bar",
         "x": [
          1,
          2,
          3,
          4,
          5,
          6,
          7,
          8,
          9,
          10,
          11,
          12,
          13,
          14,
          15,
          16,
          17,
          18,
          19,
          20,
          21,
          22,
          23,
          24
         ],
         "xaxis": "x",
         "y": [
          299,
          311,
          371,
          336,
          2110,
          438,
          391,
          451,
          276,
          375,
          274,
          604,
          427,
          499,
          466,
          324,
          513,
          536,
          694,
          782,
          2439,
          217,
          326,
          511
         ],
         "yaxis": "y"
        },
        {
         "alignmentgroup": "True",
         "hovertemplate": "species_general=False<br>WARD=%{x}<br>count=%{y}<extra></extra>",
         "legendgroup": "False",
         "marker": {
          "color": "#FF6692",
          "pattern": {
           "shape": ""
          }
         },
         "name": "False",
         "offsetgroup": "False",
         "orientation": "v",
         "showlegend": true,
         "textposition": "auto",
         "type": "bar",
         "x": [
          3,
          10,
          17,
          18,
          19,
          21,
          23,
          24
         ],
         "xaxis": "x",
         "y": [
          1,
          1,
          2,
          3,
          1,
          3,
          2,
          11
         ],
         "yaxis": "y"
        },
        {
         "alignmentgroup": "True",
         "hovertemplate": "species_general=Fir<br>WARD=%{x}<br>count=%{y}<extra></extra>",
         "legendgroup": "Fir",
         "marker": {
          "color": "#B6E880",
          "pattern": {
           "shape": ""
          }
         },
         "name": "Fir",
         "offsetgroup": "Fir",
         "orientation": "v",
         "showlegend": true,
         "textposition": "auto",
         "type": "bar",
         "x": [
          1,
          2,
          3,
          4,
          5,
          6,
          7,
          8,
          9,
          10,
          11,
          12,
          13,
          14,
          15,
          16,
          17,
          18,
          19,
          20,
          21,
          22,
          23,
          24
         ],
         "xaxis": "x",
         "y": [
          76,
          80,
          44,
          79,
          113,
          74,
          36,
          90,
          76,
          42,
          72,
          16,
          49,
          8,
          42,
          65,
          31,
          41,
          69,
          51,
          187,
          9,
          92,
          45
         ],
         "yaxis": "y"
        },
        {
         "alignmentgroup": "True",
         "hovertemplate": "species_general=Flowering<br>WARD=%{x}<br>count=%{y}<extra></extra>",
         "legendgroup": "Flowering",
         "marker": {
          "color": "#FF97FF",
          "pattern": {
           "shape": ""
          }
         },
         "name": "Flowering",
         "offsetgroup": "Flowering",
         "orientation": "v",
         "showlegend": true,
         "textposition": "auto",
         "type": "bar",
         "x": [
          2,
          3,
          10,
          13,
          19,
          22,
          23
         ],
         "xaxis": "x",
         "y": [
          2,
          1,
          6,
          1,
          9,
          3,
          1
         ],
         "yaxis": "y"
        },
        {
         "alignmentgroup": "True",
         "hovertemplate": "species_general=Fragrant<br>WARD=%{x}<br>count=%{y}<extra></extra>",
         "legendgroup": "Fragrant",
         "marker": {
          "color": "#FECB52",
          "pattern": {
           "shape": ""
          }
         },
         "name": "Fragrant",
         "offsetgroup": "Fragrant",
         "orientation": "v",
         "showlegend": true,
         "textposition": "auto",
         "type": "bar",
         "x": [
          15,
          21
         ],
         "xaxis": "x",
         "y": [
          1,
          1
         ],
         "yaxis": "y"
        },
        {
         "alignmentgroup": "True",
         "hovertemplate": "species_general=Ginkgo<br>WARD=%{x}<br>count=%{y}<extra></extra>",
         "legendgroup": "Ginkgo",
         "marker": {
          "color": "#636efa",
          "pattern": {
           "shape": ""
          }
         },
         "name": "Ginkgo",
         "offsetgroup": "Ginkgo",
         "orientation": "v",
         "showlegend": true,
         "textposition": "auto",
         "type": "bar",
         "x": [
          1,
          2,
          3,
          4,
          5,
          6,
          7,
          8,
          9,
          10,
          11,
          12,
          13,
          14,
          15,
          16,
          17,
          18,
          19,
          20,
          21,
          22,
          23,
          24
         ],
         "xaxis": "x",
         "y": [
          190,
          166,
          275,
          251,
          10,
          248,
          251,
          239,
          123,
          193,
          78,
          141,
          143,
          202,
          162,
          255,
          148,
          328,
          234,
          14,
          131,
          201,
          193,
          447
         ],
         "yaxis": "y"
        },
        {
         "alignmentgroup": "True",
         "hovertemplate": "species_general=Goldenchain<br>WARD=%{x}<br>count=%{y}<extra></extra>",
         "legendgroup": "Goldenchain",
         "marker": {
          "color": "#EF553B",
          "pattern": {
           "shape": ""
          }
         },
         "name": "Goldenchain",
         "offsetgroup": "Goldenchain",
         "orientation": "v",
         "showlegend": true,
         "textposition": "auto",
         "type": "bar",
         "x": [
          2,
          17,
          23,
          24
         ],
         "xaxis": "x",
         "y": [
          1,
          3,
          1,
          7
         ],
         "yaxis": "y"
        },
        {
         "alignmentgroup": "True",
         "hovertemplate": "species_general=Grey<br>WARD=%{x}<br>count=%{y}<extra></extra>",
         "legendgroup": "Grey",
         "marker": {
          "color": "#00cc96",
          "pattern": {
           "shape": ""
          }
         },
         "name": "Grey",
         "offsetgroup": "Grey",
         "orientation": "v",
         "showlegend": true,
         "textposition": "auto",
         "type": "bar",
         "x": [
          20
         ],
         "xaxis": "x",
         "y": [
          1
         ],
         "yaxis": "y"
        },
        {
         "alignmentgroup": "True",
         "hovertemplate": "species_general=Hackberry<br>WARD=%{x}<br>count=%{y}<extra></extra>",
         "legendgroup": "Hackberry",
         "marker": {
          "color": "#ab63fa",
          "pattern": {
           "shape": ""
          }
         },
         "name": "Hackberry",
         "offsetgroup": "Hackberry",
         "orientation": "v",
         "showlegend": true,
         "textposition": "auto",
         "type": "bar",
         "x": [
          1,
          2,
          3,
          4,
          5,
          6,
          7,
          8,
          9,
          10,
          11,
          12,
          13,
          14,
          15,
          16,
          17,
          18,
          19,
          20,
          21,
          22,
          23,
          24
         ],
         "xaxis": "x",
         "y": [
          419,
          387,
          644,
          512,
          50,
          750,
          323,
          265,
          241,
          411,
          205,
          263,
          368,
          212,
          224,
          472,
          248,
          489,
          656,
          89,
          392,
          738,
          493,
          1230
         ],
         "yaxis": "y"
        },
        {
         "alignmentgroup": "True",
         "hovertemplate": "species_general=Hawthorn<br>WARD=%{x}<br>count=%{y}<extra></extra>",
         "legendgroup": "Hawthorn",
         "marker": {
          "color": "#FFA15A",
          "pattern": {
           "shape": ""
          }
         },
         "name": "Hawthorn",
         "offsetgroup": "Hawthorn",
         "orientation": "v",
         "showlegend": true,
         "textposition": "auto",
         "type": "bar",
         "x": [
          1,
          2,
          3,
          4,
          5,
          6,
          7,
          8,
          9,
          10,
          11,
          12,
          13,
          14,
          15,
          16,
          17,
          18,
          19,
          21,
          22,
          23,
          24
         ],
         "xaxis": "x",
         "y": [
          14,
          13,
          7,
          14,
          23,
          21,
          21,
          15,
          4,
          13,
          8,
          13,
          20,
          6,
          7,
          5,
          11,
          34,
          3,
          46,
          3,
          13,
          21
         ],
         "yaxis": "y"
        },
        {
         "alignmentgroup": "True",
         "hovertemplate": "species_general=Hazel<br>WARD=%{x}<br>count=%{y}<extra></extra>",
         "legendgroup": "Hazel",
         "marker": {
          "color": "#19d3f3",
          "pattern": {
           "shape": ""
          }
         },
         "name": "Hazel",
         "offsetgroup": "Hazel",
         "orientation": "v",
         "showlegend": true,
         "textposition": "auto",
         "type": "bar",
         "x": [
          1,
          2,
          3,
          4,
          5,
          6,
          7,
          8,
          9,
          10,
          11,
          12,
          13,
          14,
          15,
          16,
          17,
          18,
          19,
          20,
          21,
          22,
          23,
          24
         ],
         "xaxis": "x",
         "y": [
          28,
          36,
          67,
          26,
          8,
          95,
          48,
          64,
          34,
          66,
          12,
          23,
          64,
          23,
          30,
          87,
          53,
          102,
          46,
          4,
          16,
          87,
          60,
          50
         ],
         "yaxis": "y"
        },
        {
         "alignmentgroup": "True",
         "hovertemplate": "species_general=Hedge<br>WARD=%{x}<br>count=%{y}<extra></extra>",
         "legendgroup": "Hedge",
         "marker": {
          "color": "#FF6692",
          "pattern": {
           "shape": ""
          }
         },
         "name": "Hedge",
         "offsetgroup": "Hedge",
         "orientation": "v",
         "showlegend": true,
         "textposition": "auto",
         "type": "bar",
         "x": [
          2,
          3,
          4,
          5,
          6,
          7,
          8,
          10,
          13,
          19,
          20,
          21,
          22,
          23
         ],
         "xaxis": "x",
         "y": [
          6,
          9,
          31,
          2611,
          9,
          19,
          73,
          133,
          2,
          329,
          557,
          1403,
          6,
          12
         ],
         "yaxis": "y"
        },
        {
         "alignmentgroup": "True",
         "hovertemplate": "species_general=Hemlock<br>WARD=%{x}<br>count=%{y}<extra></extra>",
         "legendgroup": "Hemlock",
         "marker": {
          "color": "#B6E880",
          "pattern": {
           "shape": ""
          }
         },
         "name": "Hemlock",
         "offsetgroup": "Hemlock",
         "orientation": "v",
         "showlegend": true,
         "textposition": "auto",
         "type": "bar",
         "x": [
          1,
          2,
          3,
          4,
          5,
          6,
          7,
          8,
          9,
          11,
          12,
          13,
          15,
          17,
          18,
          19,
          20,
          21,
          23,
          24
         ],
         "xaxis": "x",
         "y": [
          2,
          7,
          13,
          21,
          5,
          4,
          7,
          4,
          9,
          2,
          1,
          26,
          7,
          14,
          14,
          30,
          4,
          9,
          5,
          9
         ],
         "yaxis": "y"
        },
        {
         "alignmentgroup": "True",
         "hovertemplate": "species_general=Hickory<br>WARD=%{x}<br>count=%{y}<extra></extra>",
         "legendgroup": "Hickory",
         "marker": {
          "color": "#FF97FF",
          "pattern": {
           "shape": ""
          }
         },
         "name": "Hickory",
         "offsetgroup": "Hickory",
         "orientation": "v",
         "showlegend": true,
         "textposition": "auto",
         "type": "bar",
         "x": [
          1,
          2,
          3,
          4,
          5,
          6,
          7,
          8,
          9,
          10,
          11,
          12,
          13,
          14,
          15,
          16,
          17,
          18,
          19,
          20,
          21,
          22,
          23,
          24
         ],
         "xaxis": "x",
         "y": [
          37,
          19,
          25,
          2,
          23,
          16,
          8,
          8,
          3,
          8,
          6,
          17,
          16,
          1,
          6,
          22,
          8,
          36,
          17,
          13,
          34,
          15,
          9,
          10
         ],
         "yaxis": "y"
        },
        {
         "alignmentgroup": "True",
         "hovertemplate": "species_general=Homestead<br>WARD=%{x}<br>count=%{y}<extra></extra>",
         "legendgroup": "Homestead",
         "marker": {
          "color": "#FECB52",
          "pattern": {
           "shape": ""
          }
         },
         "name": "Homestead",
         "offsetgroup": "Homestead",
         "orientation": "v",
         "showlegend": true,
         "textposition": "auto",
         "type": "bar",
         "x": [
          1,
          2,
          4,
          7,
          9,
          10,
          11,
          12,
          13,
          16,
          17,
          18,
          19,
          22,
          23,
          24
         ],
         "xaxis": "x",
         "y": [
          2,
          1,
          2,
          1,
          2,
          12,
          9,
          1,
          3,
          3,
          2,
          5,
          3,
          9,
          4,
          3
         ],
         "yaxis": "y"
        },
        {
         "alignmentgroup": "True",
         "hovertemplate": "species_general=Honeysuckle<br>WARD=%{x}<br>count=%{y}<extra></extra>",
         "legendgroup": "Honeysuckle",
         "marker": {
          "color": "#636efa",
          "pattern": {
           "shape": ""
          }
         },
         "name": "Honeysuckle",
         "offsetgroup": "Honeysuckle",
         "orientation": "v",
         "showlegend": true,
         "textposition": "auto",
         "type": "bar",
         "x": [
          1,
          2,
          3,
          6,
          7,
          8,
          9,
          11,
          13,
          21
         ],
         "xaxis": "x",
         "y": [
          14,
          5,
          6,
          2,
          1,
          20,
          3,
          2,
          1,
          12
         ],
         "yaxis": "y"
        },
        {
         "alignmentgroup": "True",
         "hovertemplate": "species_general=Hoptree<br>WARD=%{x}<br>count=%{y}<extra></extra>",
         "legendgroup": "Hoptree",
         "marker": {
          "color": "#EF553B",
          "pattern": {
           "shape": ""
          }
         },
         "name": "Hoptree",
         "offsetgroup": "Hoptree",
         "orientation": "v",
         "showlegend": true,
         "textposition": "auto",
         "type": "bar",
         "x": [
          10,
          11,
          16,
          19
         ],
         "xaxis": "x",
         "y": [
          3,
          1,
          1,
          10
         ],
         "yaxis": "y"
        },
        {
         "alignmentgroup": "True",
         "hovertemplate": "species_general=Horsechestnut<br>WARD=%{x}<br>count=%{y}<extra></extra>",
         "legendgroup": "Horsechestnut",
         "marker": {
          "color": "#00cc96",
          "pattern": {
           "shape": ""
          }
         },
         "name": "Horsechestnut",
         "offsetgroup": "Horsechestnut",
         "orientation": "v",
         "showlegend": true,
         "textposition": "auto",
         "type": "bar",
         "x": [
          1,
          2,
          3,
          4,
          6,
          7,
          8,
          9,
          10,
          11,
          12,
          13,
          14,
          15,
          16,
          17,
          18,
          19,
          20,
          21,
          22,
          23,
          24
         ],
         "xaxis": "x",
         "y": [
          6,
          18,
          10,
          7,
          10,
          12,
          20,
          13,
          9,
          23,
          8,
          18,
          6,
          11,
          10,
          14,
          24,
          4,
          3,
          9,
          29,
          13,
          10
         ],
         "yaxis": "y"
        },
        {
         "alignmentgroup": "True",
         "hovertemplate": "species_general=Ironwood<br>WARD=%{x}<br>count=%{y}<extra></extra>",
         "legendgroup": "Ironwood",
         "marker": {
          "color": "#ab63fa",
          "pattern": {
           "shape": ""
          }
         },
         "name": "Ironwood",
         "offsetgroup": "Ironwood",
         "orientation": "v",
         "showlegend": true,
         "textposition": "auto",
         "type": "bar",
         "x": [
          1,
          2,
          3,
          4,
          5,
          6,
          7,
          8,
          9,
          10,
          11,
          12,
          13,
          14,
          15,
          16,
          17,
          18,
          19,
          20,
          21,
          22,
          23,
          24
         ],
         "xaxis": "x",
         "y": [
          30,
          47,
          52,
          43,
          59,
          52,
          35,
          66,
          30,
          30,
          15,
          15,
          36,
          16,
          52,
          36,
          52,
          32,
          40,
          12,
          73,
          40,
          44,
          17
         ],
         "yaxis": "y"
        },
        {
         "alignmentgroup": "True",
         "hovertemplate": "species_general=Juniper<br>WARD=%{x}<br>count=%{y}<extra></extra>",
         "legendgroup": "Juniper",
         "marker": {
          "color": "#FFA15A",
          "pattern": {
           "shape": ""
          }
         },
         "name": "Juniper",
         "offsetgroup": "Juniper",
         "orientation": "v",
         "showlegend": true,
         "textposition": "auto",
         "type": "bar",
         "x": [
          1,
          2,
          3,
          4,
          5,
          6,
          7,
          8,
          9,
          10,
          11,
          12,
          13,
          14,
          15,
          16,
          17,
          18,
          19,
          20,
          21,
          22,
          23,
          24
         ],
         "xaxis": "x",
         "y": [
          18,
          9,
          15,
          4,
          9,
          13,
          21,
          27,
          20,
          25,
          11,
          14,
          4,
          16,
          30,
          18,
          10,
          21,
          10,
          16,
          18,
          4,
          8,
          38
         ],
         "yaxis": "y"
        },
        {
         "alignmentgroup": "True",
         "hovertemplate": "species_general=Katsura<br>WARD=%{x}<br>count=%{y}<extra></extra>",
         "legendgroup": "Katsura",
         "marker": {
          "color": "#19d3f3",
          "pattern": {
           "shape": ""
          }
         },
         "name": "Katsura",
         "offsetgroup": "Katsura",
         "orientation": "v",
         "showlegend": true,
         "textposition": "auto",
         "type": "bar",
         "x": [
          1,
          2,
          3,
          4,
          5,
          6,
          7,
          8,
          9,
          10,
          11,
          12,
          13,
          14,
          15,
          16,
          17,
          18,
          19,
          20,
          21,
          22,
          23,
          24
         ],
         "xaxis": "x",
         "y": [
          111,
          121,
          162,
          91,
          10,
          88,
          125,
          215,
          182,
          119,
          55,
          50,
          75,
          15,
          77,
          163,
          71,
          176,
          48,
          11,
          52,
          39,
          140,
          157
         ],
         "yaxis": "y"
        },
        {
         "alignmentgroup": "True",
         "hovertemplate": "species_general=Larch<br>WARD=%{x}<br>count=%{y}<extra></extra>",
         "legendgroup": "Larch",
         "marker": {
          "color": "#FF6692",
          "pattern": {
           "shape": ""
          }
         },
         "name": "Larch",
         "offsetgroup": "Larch",
         "orientation": "v",
         "showlegend": true,
         "textposition": "auto",
         "type": "bar",
         "x": [
          1,
          2,
          3,
          4,
          5,
          6,
          7,
          8,
          9,
          10,
          11,
          12,
          13,
          14,
          15,
          16,
          17,
          18,
          19,
          20,
          21,
          22,
          23,
          24
         ],
         "xaxis": "x",
         "y": [
          32,
          32,
          145,
          51,
          34,
          89,
          51,
          53,
          55,
          75,
          34,
          20,
          32,
          2,
          24,
          31,
          62,
          122,
          138,
          55,
          157,
          68,
          43,
          73
         ],
         "yaxis": "y"
        },
        {
         "alignmentgroup": "True",
         "hovertemplate": "species_general=Lilac<br>WARD=%{x}<br>count=%{y}<extra></extra>",
         "legendgroup": "Lilac",
         "marker": {
          "color": "#B6E880",
          "pattern": {
           "shape": ""
          }
         },
         "name": "Lilac",
         "offsetgroup": "Lilac",
         "orientation": "v",
         "showlegend": true,
         "textposition": "auto",
         "type": "bar",
         "x": [
          1,
          2,
          3,
          4,
          5,
          6,
          7,
          8,
          9,
          10,
          11,
          12,
          13,
          14,
          15,
          16,
          17,
          18,
          19,
          20,
          21,
          22,
          23,
          24
         ],
         "xaxis": "x",
         "y": [
          315,
          259,
          801,
          500,
          49,
          614,
          464,
          502,
          310,
          852,
          219,
          462,
          419,
          466,
          602,
          592,
          616,
          538,
          1596,
          31,
          233,
          776,
          745,
          841
         ],
         "yaxis": "y"
        },
        {
         "alignmentgroup": "True",
         "hovertemplate": "species_general=Linden<br>WARD=%{x}<br>count=%{y}<extra></extra>",
         "legendgroup": "Linden",
         "marker": {
          "color": "#FF97FF",
          "pattern": {
           "shape": ""
          }
         },
         "name": "Linden",
         "offsetgroup": "Linden",
         "orientation": "v",
         "showlegend": true,
         "textposition": "auto",
         "type": "bar",
         "x": [
          1,
          2,
          3,
          4,
          5,
          6,
          7,
          8,
          9,
          10,
          11,
          12,
          13,
          14,
          15,
          16,
          17,
          18,
          19,
          20,
          21,
          22,
          23,
          24
         ],
         "xaxis": "x",
         "y": [
          354,
          193,
          744,
          984,
          40,
          282,
          865,
          921,
          438,
          485,
          176,
          564,
          589,
          350,
          639,
          884,
          484,
          1543,
          577,
          25,
          201,
          201,
          566,
          1385
         ],
         "yaxis": "y"
        },
        {
         "alignmentgroup": "True",
         "hovertemplate": "species_general=Locust<br>WARD=%{x}<br>count=%{y}<extra></extra>",
         "legendgroup": "Locust",
         "marker": {
          "color": "#FECB52",
          "pattern": {
           "shape": ""
          }
         },
         "name": "Locust",
         "offsetgroup": "Locust",
         "orientation": "v",
         "showlegend": true,
         "textposition": "auto",
         "type": "bar",
         "x": [
          1,
          2,
          3,
          4,
          5,
          6,
          7,
          8,
          9,
          10,
          11,
          12,
          13,
          14,
          15,
          16,
          17,
          18,
          19,
          20,
          21,
          22,
          23,
          24
         ],
         "xaxis": "x",
         "y": [
          666,
          599,
          697,
          1070,
          49,
          780,
          672,
          718,
          443,
          790,
          311,
          830,
          813,
          818,
          872,
          942,
          625,
          946,
          742,
          102,
          446,
          757,
          1038,
          1659
         ],
         "yaxis": "y"
        },
        {
         "alignmentgroup": "True",
         "hovertemplate": "species_general=London<br>WARD=%{x}<br>count=%{y}<extra></extra>",
         "legendgroup": "London",
         "marker": {
          "color": "#636efa",
          "pattern": {
           "shape": ""
          }
         },
         "name": "London",
         "offsetgroup": "London",
         "orientation": "v",
         "showlegend": true,
         "textposition": "auto",
         "type": "bar",
         "x": [
          7
         ],
         "xaxis": "x",
         "y": [
          4
         ],
         "yaxis": "y"
        },
        {
         "alignmentgroup": "True",
         "hovertemplate": "species_general=Magnolia<br>WARD=%{x}<br>count=%{y}<extra></extra>",
         "legendgroup": "Magnolia",
         "marker": {
          "color": "#EF553B",
          "pattern": {
           "shape": ""
          }
         },
         "name": "Magnolia",
         "offsetgroup": "Magnolia",
         "orientation": "v",
         "showlegend": true,
         "textposition": "auto",
         "type": "bar",
         "x": [
          1,
          2,
          3,
          4,
          6,
          7,
          8,
          9,
          10,
          11,
          12,
          13,
          14,
          15,
          16,
          17,
          18,
          19,
          21,
          22,
          23,
          24
         ],
         "xaxis": "x",
         "y": [
          3,
          7,
          2,
          2,
          4,
          9,
          14,
          13,
          7,
          3,
          7,
          6,
          5,
          18,
          4,
          17,
          8,
          4,
          3,
          2,
          7,
          6
         ],
         "yaxis": "y"
        },
        {
         "alignmentgroup": "True",
         "hovertemplate": "species_general=Maple<br>WARD=%{x}<br>count=%{y}<extra></extra>",
         "legendgroup": "Maple",
         "marker": {
          "color": "#00cc96",
          "pattern": {
           "shape": ""
          }
         },
         "name": "Maple",
         "offsetgroup": "Maple",
         "orientation": "v",
         "showlegend": true,
         "textposition": "auto",
         "type": "bar",
         "x": [
          1,
          2,
          3,
          4,
          5,
          6,
          7,
          8,
          9,
          10,
          11,
          12,
          13,
          14,
          15,
          16,
          17,
          18,
          19,
          20,
          21,
          22,
          23,
          24
         ],
         "xaxis": "x",
         "y": [
          3266,
          3321,
          4982,
          4440,
          1705,
          3404,
          4769,
          5361,
          3407,
          4931,
          2512,
          3748,
          4902,
          1996,
          4514,
          5137,
          4626,
          6224,
          4497,
          1479,
          5646,
          2898,
          4882,
          4814
         ],
         "yaxis": "y"
        },
        {
         "alignmentgroup": "True",
         "hovertemplate": "species_general=Mountain<br>WARD=%{x}<br>count=%{y}<extra></extra>",
         "legendgroup": "Mountain",
         "marker": {
          "color": "#ab63fa",
          "pattern": {
           "shape": ""
          }
         },
         "name": "Mountain",
         "offsetgroup": "Mountain",
         "orientation": "v",
         "showlegend": true,
         "textposition": "auto",
         "type": "bar",
         "x": [
          1,
          2,
          3,
          4,
          5,
          6,
          7,
          8,
          9,
          10,
          11,
          12,
          13,
          14,
          15,
          16,
          17,
          18,
          19,
          20,
          21,
          22,
          23,
          24
         ],
         "xaxis": "x",
         "y": [
          75,
          72,
          150,
          92,
          21,
          63,
          139,
          166,
          90,
          123,
          67,
          132,
          125,
          40,
          117,
          174,
          142,
          179,
          158,
          5,
          99,
          107,
          96,
          177
         ],
         "yaxis": "y"
        },
        {
         "alignmentgroup": "True",
         "hovertemplate": "species_general=Mulberry<br>WARD=%{x}<br>count=%{y}<extra></extra>",
         "legendgroup": "Mulberry",
         "marker": {
          "color": "#FFA15A",
          "pattern": {
           "shape": ""
          }
         },
         "name": "Mulberry",
         "offsetgroup": "Mulberry",
         "orientation": "v",
         "showlegend": true,
         "textposition": "auto",
         "type": "bar",
         "x": [
          1,
          2,
          3,
          4,
          6,
          7,
          8,
          9,
          10,
          11,
          14,
          15,
          16,
          17,
          18,
          19,
          21,
          22,
          23,
          24
         ],
         "xaxis": "x",
         "y": [
          6,
          6,
          14,
          8,
          13,
          13,
          19,
          32,
          15,
          1,
          6,
          20,
          17,
          16,
          9,
          11,
          13,
          6,
          11,
          16
         ],
         "yaxis": "y"
        },
        {
         "alignmentgroup": "True",
         "hovertemplate": "species_general=Nannyberry<br>WARD=%{x}<br>count=%{y}<extra></extra>",
         "legendgroup": "Nannyberry",
         "marker": {
          "color": "#19d3f3",
          "pattern": {
           "shape": ""
          }
         },
         "name": "Nannyberry",
         "offsetgroup": "Nannyberry",
         "orientation": "v",
         "showlegend": true,
         "textposition": "auto",
         "type": "bar",
         "x": [
          1,
          2,
          3,
          4,
          5,
          6,
          7,
          8,
          9,
          10,
          11,
          12,
          13,
          14,
          15,
          16,
          17,
          18,
          19,
          20,
          21,
          22,
          23,
          24
         ],
         "xaxis": "x",
         "y": [
          10,
          28,
          27,
          20,
          4,
          15,
          17,
          38,
          18,
          29,
          3,
          9,
          17,
          1,
          17,
          30,
          8,
          6,
          35,
          11,
          4,
          28,
          18,
          19
         ],
         "yaxis": "y"
        },
        {
         "alignmentgroup": "True",
         "hovertemplate": "species_general=Ninebark<br>WARD=%{x}<br>count=%{y}<extra></extra>",
         "legendgroup": "Ninebark",
         "marker": {
          "color": "#FF6692",
          "pattern": {
           "shape": ""
          }
         },
         "name": "Ninebark",
         "offsetgroup": "Ninebark",
         "orientation": "v",
         "showlegend": true,
         "textposition": "auto",
         "type": "bar",
         "x": [
          4,
          6
         ],
         "xaxis": "x",
         "y": [
          1,
          1
         ],
         "yaxis": "y"
        },
        {
         "alignmentgroup": "True",
         "hovertemplate": "species_general=Oak<br>WARD=%{x}<br>count=%{y}<extra></extra>",
         "legendgroup": "Oak",
         "marker": {
          "color": "#B6E880",
          "pattern": {
           "shape": ""
          }
         },
         "name": "Oak",
         "offsetgroup": "Oak",
         "orientation": "v",
         "showlegend": true,
         "textposition": "auto",
         "type": "bar",
         "x": [
          1,
          2,
          3,
          4,
          5,
          6,
          7,
          8,
          9,
          10,
          11,
          12,
          13,
          14,
          15,
          16,
          17,
          18,
          19,
          20,
          21,
          22,
          23,
          24
         ],
         "xaxis": "x",
         "y": [
          621,
          617,
          1307,
          961,
          1138,
          918,
          610,
          805,
          439,
          414,
          384,
          473,
          476,
          211,
          468,
          640,
          534,
          935,
          973,
          255,
          1253,
          936,
          761,
          1438
         ],
         "yaxis": "y"
        },
        {
         "alignmentgroup": "True",
         "hovertemplate": "species_general=Olive<br>WARD=%{x}<br>count=%{y}<extra></extra>",
         "legendgroup": "Olive",
         "marker": {
          "color": "#FF97FF",
          "pattern": {
           "shape": ""
          }
         },
         "name": "Olive",
         "offsetgroup": "Olive",
         "orientation": "v",
         "showlegend": true,
         "textposition": "auto",
         "type": "bar",
         "x": [
          1,
          2,
          3,
          4,
          5,
          6,
          7,
          8,
          9,
          10,
          11,
          12,
          13,
          14,
          15,
          16,
          17,
          18,
          19,
          21,
          22,
          23,
          24
         ],
         "xaxis": "x",
         "y": [
          10,
          9,
          2,
          18,
          3,
          6,
          21,
          7,
          7,
          24,
          12,
          7,
          12,
          11,
          20,
          13,
          17,
          12,
          2,
          12,
          1,
          17,
          5
         ],
         "yaxis": "y"
        },
        {
         "alignmentgroup": "True",
         "hovertemplate": "species_general=Ornamental<br>WARD=%{x}<br>count=%{y}<extra></extra>",
         "legendgroup": "Ornamental",
         "marker": {
          "color": "#FECB52",
          "pattern": {
           "shape": ""
          }
         },
         "name": "Ornamental",
         "offsetgroup": "Ornamental",
         "orientation": "v",
         "showlegend": true,
         "textposition": "auto",
         "type": "bar",
         "x": [
          1,
          2,
          3,
          4,
          5,
          6,
          7,
          8,
          9,
          10,
          11,
          12,
          13,
          14,
          15,
          16,
          17,
          18,
          19,
          20,
          21,
          22,
          23,
          24
         ],
         "xaxis": "x",
         "y": [
          40,
          37,
          126,
          56,
          3,
          94,
          62,
          49,
          40,
          79,
          8,
          36,
          28,
          24,
          64,
          53,
          24,
          40,
          143,
          16,
          30,
          93,
          64,
          105
         ],
         "yaxis": "y"
        },
        {
         "alignmentgroup": "True",
         "hovertemplate": "species_general=Other<br>WARD=%{x}<br>count=%{y}<extra></extra>",
         "legendgroup": "Other",
         "marker": {
          "color": "#636efa",
          "pattern": {
           "shape": ""
          }
         },
         "name": "Other",
         "offsetgroup": "Other",
         "orientation": "v",
         "showlegend": true,
         "textposition": "auto",
         "type": "bar",
         "x": [
          1,
          2,
          3,
          4,
          5,
          6,
          7,
          8,
          9,
          10,
          11,
          12,
          13,
          14,
          15,
          16,
          17,
          18,
          19,
          20,
          21,
          22,
          23,
          24
         ],
         "xaxis": "x",
         "y": [
          16,
          42,
          6,
          65,
          23,
          15,
          70,
          20,
          7,
          29,
          124,
          34,
          45,
          5,
          28,
          16,
          9,
          13,
          17,
          80,
          262,
          8,
          11,
          25
         ],
         "yaxis": "y"
        },
        {
         "alignmentgroup": "True",
         "hovertemplate": "species_general=Pear<br>WARD=%{x}<br>count=%{y}<extra></extra>",
         "legendgroup": "Pear",
         "marker": {
          "color": "#EF553B",
          "pattern": {
           "shape": ""
          }
         },
         "name": "Pear",
         "offsetgroup": "Pear",
         "orientation": "v",
         "showlegend": true,
         "textposition": "auto",
         "type": "bar",
         "x": [
          1,
          2,
          3,
          4,
          5,
          6,
          7,
          8,
          9,
          10,
          11,
          12,
          13,
          14,
          15,
          16,
          17,
          18,
          19,
          20,
          21,
          22,
          23,
          24
         ],
         "xaxis": "x",
         "y": [
          21,
          16,
          33,
          21,
          2,
          9,
          6,
          8,
          2,
          20,
          1,
          6,
          4,
          12,
          18,
          3,
          11,
          8,
          104,
          1,
          17,
          6,
          13,
          2
         ],
         "yaxis": "y"
        },
        {
         "alignmentgroup": "True",
         "hovertemplate": "species_general=Pine<br>WARD=%{x}<br>count=%{y}<extra></extra>",
         "legendgroup": "Pine",
         "marker": {
          "color": "#00cc96",
          "pattern": {
           "shape": ""
          }
         },
         "name": "Pine",
         "offsetgroup": "Pine",
         "orientation": "v",
         "showlegend": true,
         "textposition": "auto",
         "type": "bar",
         "x": [
          1,
          2,
          3,
          4,
          5,
          6,
          7,
          8,
          9,
          10,
          11,
          12,
          13,
          14,
          15,
          16,
          17,
          18,
          19,
          20,
          21,
          22,
          23,
          24
         ],
         "xaxis": "x",
         "y": [
          864,
          820,
          660,
          1003,
          863,
          421,
          916,
          688,
          826,
          709,
          553,
          262,
          519,
          55,
          353,
          540,
          297,
          628,
          799,
          795,
          1093,
          357,
          1110,
          861
         ],
         "yaxis": "y"
        },
        {
         "alignmentgroup": "True",
         "hovertemplate": "species_general=Poplar<br>WARD=%{x}<br>count=%{y}<extra></extra>",
         "legendgroup": "Poplar",
         "marker": {
          "color": "#ab63fa",
          "pattern": {
           "shape": ""
          }
         },
         "name": "Poplar",
         "offsetgroup": "Poplar",
         "orientation": "v",
         "showlegend": true,
         "textposition": "auto",
         "type": "bar",
         "x": [
          1,
          2,
          3,
          4,
          5,
          6,
          7,
          8,
          9,
          10,
          11,
          12,
          13,
          14,
          15,
          16,
          17,
          18,
          19,
          20,
          21,
          22,
          23,
          24
         ],
         "xaxis": "x",
         "y": [
          22,
          8,
          33,
          22,
          400,
          107,
          19,
          19,
          9,
          51,
          28,
          11,
          17,
          3,
          15,
          15,
          9,
          20,
          101,
          142,
          367,
          55,
          15,
          17
         ],
         "yaxis": "y"
        },
        {
         "alignmentgroup": "True",
         "hovertemplate": "species_general=Redbud<br>WARD=%{x}<br>count=%{y}<extra></extra>",
         "legendgroup": "Redbud",
         "marker": {
          "color": "#FFA15A",
          "pattern": {
           "shape": ""
          }
         },
         "name": "Redbud",
         "offsetgroup": "Redbud",
         "orientation": "v",
         "showlegend": true,
         "textposition": "auto",
         "type": "bar",
         "x": [
          1,
          2,
          3,
          4,
          6,
          7,
          8,
          9,
          10,
          11,
          12,
          14,
          15,
          16,
          17,
          18,
          19,
          21,
          23,
          24
         ],
         "xaxis": "x",
         "y": [
          4,
          4,
          15,
          5,
          1,
          6,
          1,
          11,
          13,
          2,
          5,
          4,
          8,
          4,
          15,
          6,
          21,
          8,
          6,
          1
         ],
         "yaxis": "y"
        },
        {
         "alignmentgroup": "True",
         "hovertemplate": "species_general=Serviceberry<br>WARD=%{x}<br>count=%{y}<extra></extra>",
         "legendgroup": "Serviceberry",
         "marker": {
          "color": "#19d3f3",
          "pattern": {
           "shape": ""
          }
         },
         "name": "Serviceberry",
         "offsetgroup": "Serviceberry",
         "orientation": "v",
         "showlegend": true,
         "textposition": "auto",
         "type": "bar",
         "x": [
          1,
          2,
          3,
          4,
          5,
          6,
          7,
          8,
          9,
          10,
          11,
          12,
          13,
          14,
          15,
          16,
          17,
          18,
          19,
          20,
          21,
          22,
          23,
          24
         ],
         "xaxis": "x",
         "y": [
          299,
          210,
          771,
          412,
          30,
          471,
          295,
          340,
          215,
          361,
          127,
          175,
          197,
          164,
          357,
          388,
          386,
          334,
          1324,
          90,
          209,
          544,
          461,
          472
         ],
         "yaxis": "y"
        },
        {
         "alignmentgroup": "True",
         "hovertemplate": "species_general=Spruce<br>WARD=%{x}<br>count=%{y}<extra></extra>",
         "legendgroup": "Spruce",
         "marker": {
          "color": "#FF6692",
          "pattern": {
           "shape": ""
          }
         },
         "name": "Spruce",
         "offsetgroup": "Spruce",
         "orientation": "v",
         "showlegend": true,
         "textposition": "auto",
         "type": "bar",
         "x": [
          1,
          2,
          3,
          4,
          5,
          6,
          7,
          8,
          9,
          10,
          11,
          12,
          13,
          14,
          15,
          16,
          17,
          18,
          19,
          20,
          21,
          22,
          23,
          24
         ],
         "xaxis": "x",
         "y": [
          1644,
          1559,
          1750,
          2325,
          1162,
          1477,
          1181,
          2075,
          1852,
          2197,
          1243,
          617,
          1074,
          161,
          917,
          1486,
          728,
          1131,
          1505,
          766,
          2511,
          994,
          2469,
          2422
         ],
         "yaxis": "y"
        },
        {
         "alignmentgroup": "True",
         "hovertemplate": "species_general=Staghorn<br>WARD=%{x}<br>count=%{y}<extra></extra>",
         "legendgroup": "Staghorn",
         "marker": {
          "color": "#B6E880",
          "pattern": {
           "shape": ""
          }
         },
         "name": "Staghorn",
         "offsetgroup": "Staghorn",
         "orientation": "v",
         "showlegend": true,
         "textposition": "auto",
         "type": "bar",
         "x": [
          1,
          2,
          3,
          4,
          5,
          6,
          7,
          8,
          9,
          10,
          11,
          12,
          13,
          14,
          15,
          16,
          17,
          18,
          19,
          21,
          22,
          23,
          24
         ],
         "xaxis": "x",
         "y": [
          4,
          17,
          69,
          27,
          1,
          10,
          7,
          2,
          31,
          15,
          2,
          5,
          3,
          1,
          14,
          7,
          9,
          1,
          8,
          6,
          5,
          21,
          14
         ],
         "yaxis": "y"
        },
        {
         "alignmentgroup": "True",
         "hovertemplate": "species_general=Swedish<br>WARD=%{x}<br>count=%{y}<extra></extra>",
         "legendgroup": "Swedish",
         "marker": {
          "color": "#FF97FF",
          "pattern": {
           "shape": ""
          }
         },
         "name": "Swedish",
         "offsetgroup": "Swedish",
         "orientation": "v",
         "showlegend": true,
         "textposition": "auto",
         "type": "bar",
         "x": [
          3,
          7,
          10,
          14,
          15,
          17,
          18,
          23
         ],
         "xaxis": "x",
         "y": [
          1,
          1,
          2,
          5,
          1,
          4,
          24,
          6
         ],
         "yaxis": "y"
        },
        {
         "alignmentgroup": "True",
         "hovertemplate": "species_general=Sycamore<br>WARD=%{x}<br>count=%{y}<extra></extra>",
         "legendgroup": "Sycamore",
         "marker": {
          "color": "#FECB52",
          "pattern": {
           "shape": ""
          }
         },
         "name": "Sycamore",
         "offsetgroup": "Sycamore",
         "orientation": "v",
         "showlegend": true,
         "textposition": "auto",
         "type": "bar",
         "x": [
          1,
          7,
          8,
          16,
          17
         ],
         "xaxis": "x",
         "y": [
          1,
          2,
          1,
          2,
          2
         ],
         "yaxis": "y"
        },
        {
         "alignmentgroup": "True",
         "hovertemplate": "species_general=Thornless<br>WARD=%{x}<br>count=%{y}<extra></extra>",
         "legendgroup": "Thornless",
         "marker": {
          "color": "#636efa",
          "pattern": {
           "shape": ""
          }
         },
         "name": "Thornless",
         "offsetgroup": "Thornless",
         "orientation": "v",
         "showlegend": true,
         "textposition": "auto",
         "type": "bar",
         "x": [
          1,
          2,
          3,
          4,
          5,
          6,
          7,
          8,
          9,
          10,
          11,
          12,
          13,
          14,
          15,
          16,
          17,
          18,
          19,
          20,
          21,
          22,
          23,
          24
         ],
         "xaxis": "x",
         "y": [
          14,
          26,
          20,
          15,
          1,
          19,
          15,
          11,
          8,
          16,
          8,
          11,
          2,
          4,
          2,
          12,
          6,
          1,
          60,
          9,
          31,
          11,
          14,
          20
         ],
         "yaxis": "y"
        },
        {
         "alignmentgroup": "True",
         "hovertemplate": "species_general=Tulip-tree<br>WARD=%{x}<br>count=%{y}<extra></extra>",
         "legendgroup": "Tulip-tree",
         "marker": {
          "color": "#EF553B",
          "pattern": {
           "shape": ""
          }
         },
         "name": "Tulip-tree",
         "offsetgroup": "Tulip-tree",
         "orientation": "v",
         "showlegend": true,
         "textposition": "auto",
         "type": "bar",
         "x": [
          5,
          6,
          8,
          11,
          14,
          15,
          18,
          19,
          20
         ],
         "xaxis": "x",
         "y": [
          1,
          1,
          1,
          2,
          1,
          1,
          1,
          2,
          2
         ],
         "yaxis": "y"
        },
        {
         "alignmentgroup": "True",
         "hovertemplate": "species_general=Unknown<br>WARD=%{x}<br>count=%{y}<extra></extra>",
         "legendgroup": "Unknown",
         "marker": {
          "color": "#00cc96",
          "pattern": {
           "shape": ""
          }
         },
         "name": "Unknown",
         "offsetgroup": "Unknown",
         "orientation": "v",
         "showlegend": true,
         "textposition": "auto",
         "type": "bar",
         "x": [
          1,
          2,
          3,
          4,
          5,
          6,
          7,
          8,
          9,
          10,
          11,
          12,
          13,
          14,
          15,
          16,
          17,
          18,
          19,
          20,
          21,
          22,
          23,
          24
         ],
         "xaxis": "x",
         "y": [
          59,
          18,
          11,
          29,
          49,
          18,
          12,
          9,
          3,
          8,
          22,
          12,
          7,
          3,
          17,
          6,
          6,
          9,
          24,
          19,
          79,
          9,
          15,
          4
         ],
         "yaxis": "y"
        },
        {
         "alignmentgroup": "True",
         "hovertemplate": "species_general=Various<br>WARD=%{x}<br>count=%{y}<extra></extra>",
         "legendgroup": "Various",
         "marker": {
          "color": "#ab63fa",
          "pattern": {
           "shape": ""
          }
         },
         "name": "Various",
         "offsetgroup": "Various",
         "orientation": "v",
         "showlegend": true,
         "textposition": "auto",
         "type": "bar",
         "x": [
          1,
          2,
          4,
          6,
          7,
          8,
          10,
          12,
          13,
          15,
          17,
          20,
          21,
          23,
          24
         ],
         "xaxis": "x",
         "y": [
          24,
          3,
          26,
          16,
          1,
          4,
          26,
          13,
          149,
          30,
          8,
          4,
          12,
          3,
          5
         ],
         "yaxis": "y"
        },
        {
         "alignmentgroup": "True",
         "hovertemplate": "species_general=Walnut<br>WARD=%{x}<br>count=%{y}<extra></extra>",
         "legendgroup": "Walnut",
         "marker": {
          "color": "#FFA15A",
          "pattern": {
           "shape": ""
          }
         },
         "name": "Walnut",
         "offsetgroup": "Walnut",
         "orientation": "v",
         "showlegend": true,
         "textposition": "auto",
         "type": "bar",
         "x": [
          1,
          2,
          3,
          4,
          5,
          6,
          7,
          8,
          9,
          10,
          11,
          12,
          13,
          14,
          15,
          16,
          17,
          18,
          19,
          20,
          21,
          22,
          23,
          24
         ],
         "xaxis": "x",
         "y": [
          17,
          19,
          30,
          18,
          32,
          23,
          23,
          24,
          35,
          2,
          7,
          4,
          18,
          2,
          23,
          61,
          38,
          18,
          19,
          19,
          127,
          22,
          31,
          19
         ],
         "yaxis": "y"
        },
        {
         "alignmentgroup": "True",
         "hovertemplate": "species_general=Willow<br>WARD=%{x}<br>count=%{y}<extra></extra>",
         "legendgroup": "Willow",
         "marker": {
          "color": "#19d3f3",
          "pattern": {
           "shape": ""
          }
         },
         "name": "Willow",
         "offsetgroup": "Willow",
         "orientation": "v",
         "showlegend": true,
         "textposition": "auto",
         "type": "bar",
         "x": [
          1,
          2,
          3,
          4,
          5,
          6,
          7,
          8,
          9,
          10,
          11,
          12,
          13,
          15,
          16,
          17,
          18,
          19,
          20,
          21,
          22,
          23,
          24
         ],
         "xaxis": "x",
         "y": [
          77,
          34,
          32,
          41,
          174,
          35,
          91,
          26,
          23,
          62,
          14,
          31,
          20,
          22,
          52,
          53,
          25,
          124,
          252,
          279,
          18,
          49,
          28
         ],
         "yaxis": "y"
        },
        {
         "alignmentgroup": "True",
         "hovertemplate": "species_general=Yellowwood<br>WARD=%{x}<br>count=%{y}<extra></extra>",
         "legendgroup": "Yellowwood",
         "marker": {
          "color": "#FF6692",
          "pattern": {
           "shape": ""
          }
         },
         "name": "Yellowwood",
         "offsetgroup": "Yellowwood",
         "orientation": "v",
         "showlegend": true,
         "textposition": "auto",
         "type": "bar",
         "x": [
          1,
          2,
          3,
          4,
          6,
          7,
          8,
          9,
          10,
          11,
          12,
          13,
          16,
          17,
          18,
          19,
          21,
          22,
          23,
          24
         ],
         "xaxis": "x",
         "y": [
          23,
          80,
          9,
          2,
          15,
          6,
          6,
          7,
          31,
          14,
          7,
          10,
          25,
          1,
          16,
          19,
          3,
          32,
          4,
          6
         ],
         "yaxis": "y"
        },
        {
         "alignmentgroup": "True",
         "hovertemplate": "species_general=Yew<br>WARD=%{x}<br>count=%{y}<extra></extra>",
         "legendgroup": "Yew",
         "marker": {
          "color": "#B6E880",
          "pattern": {
           "shape": ""
          }
         },
         "name": "Yew",
         "offsetgroup": "Yew",
         "orientation": "v",
         "showlegend": true,
         "textposition": "auto",
         "type": "bar",
         "x": [
          2,
          3,
          4,
          6,
          8,
          12,
          13,
          14,
          15,
          16,
          17,
          18,
          21,
          23,
          24
         ],
         "xaxis": "x",
         "y": [
          3,
          3,
          2,
          1,
          4,
          5,
          19,
          1,
          5,
          3,
          3,
          8,
          2,
          2,
          1
         ],
         "yaxis": "y"
        }
       ],
       "layout": {
        "barmode": "relative",
        "legend": {
         "title": {
          "text": "species_general"
         },
         "tracegroupgap": 0
        },
        "template": {
         "data": {
          "bar": [
           {
            "error_x": {
             "color": "#2a3f5f"
            },
            "error_y": {
             "color": "#2a3f5f"
            },
            "marker": {
             "line": {
              "color": "#E5ECF6",
              "width": 0.5
             },
             "pattern": {
              "fillmode": "overlay",
              "size": 10,
              "solidity": 0.2
             }
            },
            "type": "bar"
           }
          ],
          "barpolar": [
           {
            "marker": {
             "line": {
              "color": "#E5ECF6",
              "width": 0.5
             },
             "pattern": {
              "fillmode": "overlay",
              "size": 10,
              "solidity": 0.2
             }
            },
            "type": "barpolar"
           }
          ],
          "carpet": [
           {
            "aaxis": {
             "endlinecolor": "#2a3f5f",
             "gridcolor": "white",
             "linecolor": "white",
             "minorgridcolor": "white",
             "startlinecolor": "#2a3f5f"
            },
            "baxis": {
             "endlinecolor": "#2a3f5f",
             "gridcolor": "white",
             "linecolor": "white",
             "minorgridcolor": "white",
             "startlinecolor": "#2a3f5f"
            },
            "type": "carpet"
           }
          ],
          "choropleth": [
           {
            "colorbar": {
             "outlinewidth": 0,
             "ticks": ""
            },
            "type": "choropleth"
           }
          ],
          "contour": [
           {
            "colorbar": {
             "outlinewidth": 0,
             "ticks": ""
            },
            "colorscale": [
             [
              0,
              "#0d0887"
             ],
             [
              0.1111111111111111,
              "#46039f"
             ],
             [
              0.2222222222222222,
              "#7201a8"
             ],
             [
              0.3333333333333333,
              "#9c179e"
             ],
             [
              0.4444444444444444,
              "#bd3786"
             ],
             [
              0.5555555555555556,
              "#d8576b"
             ],
             [
              0.6666666666666666,
              "#ed7953"
             ],
             [
              0.7777777777777778,
              "#fb9f3a"
             ],
             [
              0.8888888888888888,
              "#fdca26"
             ],
             [
              1,
              "#f0f921"
             ]
            ],
            "type": "contour"
           }
          ],
          "contourcarpet": [
           {
            "colorbar": {
             "outlinewidth": 0,
             "ticks": ""
            },
            "type": "contourcarpet"
           }
          ],
          "heatmap": [
           {
            "colorbar": {
             "outlinewidth": 0,
             "ticks": ""
            },
            "colorscale": [
             [
              0,
              "#0d0887"
             ],
             [
              0.1111111111111111,
              "#46039f"
             ],
             [
              0.2222222222222222,
              "#7201a8"
             ],
             [
              0.3333333333333333,
              "#9c179e"
             ],
             [
              0.4444444444444444,
              "#bd3786"
             ],
             [
              0.5555555555555556,
              "#d8576b"
             ],
             [
              0.6666666666666666,
              "#ed7953"
             ],
             [
              0.7777777777777778,
              "#fb9f3a"
             ],
             [
              0.8888888888888888,
              "#fdca26"
             ],
             [
              1,
              "#f0f921"
             ]
            ],
            "type": "heatmap"
           }
          ],
          "heatmapgl": [
           {
            "colorbar": {
             "outlinewidth": 0,
             "ticks": ""
            },
            "colorscale": [
             [
              0,
              "#0d0887"
             ],
             [
              0.1111111111111111,
              "#46039f"
             ],
             [
              0.2222222222222222,
              "#7201a8"
             ],
             [
              0.3333333333333333,
              "#9c179e"
             ],
             [
              0.4444444444444444,
              "#bd3786"
             ],
             [
              0.5555555555555556,
              "#d8576b"
             ],
             [
              0.6666666666666666,
              "#ed7953"
             ],
             [
              0.7777777777777778,
              "#fb9f3a"
             ],
             [
              0.8888888888888888,
              "#fdca26"
             ],
             [
              1,
              "#f0f921"
             ]
            ],
            "type": "heatmapgl"
           }
          ],
          "histogram": [
           {
            "marker": {
             "pattern": {
              "fillmode": "overlay",
              "size": 10,
              "solidity": 0.2
             }
            },
            "type": "histogram"
           }
          ],
          "histogram2d": [
           {
            "colorbar": {
             "outlinewidth": 0,
             "ticks": ""
            },
            "colorscale": [
             [
              0,
              "#0d0887"
             ],
             [
              0.1111111111111111,
              "#46039f"
             ],
             [
              0.2222222222222222,
              "#7201a8"
             ],
             [
              0.3333333333333333,
              "#9c179e"
             ],
             [
              0.4444444444444444,
              "#bd3786"
             ],
             [
              0.5555555555555556,
              "#d8576b"
             ],
             [
              0.6666666666666666,
              "#ed7953"
             ],
             [
              0.7777777777777778,
              "#fb9f3a"
             ],
             [
              0.8888888888888888,
              "#fdca26"
             ],
             [
              1,
              "#f0f921"
             ]
            ],
            "type": "histogram2d"
           }
          ],
          "histogram2dcontour": [
           {
            "colorbar": {
             "outlinewidth": 0,
             "ticks": ""
            },
            "colorscale": [
             [
              0,
              "#0d0887"
             ],
             [
              0.1111111111111111,
              "#46039f"
             ],
             [
              0.2222222222222222,
              "#7201a8"
             ],
             [
              0.3333333333333333,
              "#9c179e"
             ],
             [
              0.4444444444444444,
              "#bd3786"
             ],
             [
              0.5555555555555556,
              "#d8576b"
             ],
             [
              0.6666666666666666,
              "#ed7953"
             ],
             [
              0.7777777777777778,
              "#fb9f3a"
             ],
             [
              0.8888888888888888,
              "#fdca26"
             ],
             [
              1,
              "#f0f921"
             ]
            ],
            "type": "histogram2dcontour"
           }
          ],
          "mesh3d": [
           {
            "colorbar": {
             "outlinewidth": 0,
             "ticks": ""
            },
            "type": "mesh3d"
           }
          ],
          "parcoords": [
           {
            "line": {
             "colorbar": {
              "outlinewidth": 0,
              "ticks": ""
             }
            },
            "type": "parcoords"
           }
          ],
          "pie": [
           {
            "automargin": true,
            "type": "pie"
           }
          ],
          "scatter": [
           {
            "fillpattern": {
             "fillmode": "overlay",
             "size": 10,
             "solidity": 0.2
            },
            "type": "scatter"
           }
          ],
          "scatter3d": [
           {
            "line": {
             "colorbar": {
              "outlinewidth": 0,
              "ticks": ""
             }
            },
            "marker": {
             "colorbar": {
              "outlinewidth": 0,
              "ticks": ""
             }
            },
            "type": "scatter3d"
           }
          ],
          "scattercarpet": [
           {
            "marker": {
             "colorbar": {
              "outlinewidth": 0,
              "ticks": ""
             }
            },
            "type": "scattercarpet"
           }
          ],
          "scattergeo": [
           {
            "marker": {
             "colorbar": {
              "outlinewidth": 0,
              "ticks": ""
             }
            },
            "type": "scattergeo"
           }
          ],
          "scattergl": [
           {
            "marker": {
             "colorbar": {
              "outlinewidth": 0,
              "ticks": ""
             }
            },
            "type": "scattergl"
           }
          ],
          "scattermapbox": [
           {
            "marker": {
             "colorbar": {
              "outlinewidth": 0,
              "ticks": ""
             }
            },
            "type": "scattermapbox"
           }
          ],
          "scatterpolar": [
           {
            "marker": {
             "colorbar": {
              "outlinewidth": 0,
              "ticks": ""
             }
            },
            "type": "scatterpolar"
           }
          ],
          "scatterpolargl": [
           {
            "marker": {
             "colorbar": {
              "outlinewidth": 0,
              "ticks": ""
             }
            },
            "type": "scatterpolargl"
           }
          ],
          "scatterternary": [
           {
            "marker": {
             "colorbar": {
              "outlinewidth": 0,
              "ticks": ""
             }
            },
            "type": "scatterternary"
           }
          ],
          "surface": [
           {
            "colorbar": {
             "outlinewidth": 0,
             "ticks": ""
            },
            "colorscale": [
             [
              0,
              "#0d0887"
             ],
             [
              0.1111111111111111,
              "#46039f"
             ],
             [
              0.2222222222222222,
              "#7201a8"
             ],
             [
              0.3333333333333333,
              "#9c179e"
             ],
             [
              0.4444444444444444,
              "#bd3786"
             ],
             [
              0.5555555555555556,
              "#d8576b"
             ],
             [
              0.6666666666666666,
              "#ed7953"
             ],
             [
              0.7777777777777778,
              "#fb9f3a"
             ],
             [
              0.8888888888888888,
              "#fdca26"
             ],
             [
              1,
              "#f0f921"
             ]
            ],
            "type": "surface"
           }
          ],
          "table": [
           {
            "cells": {
             "fill": {
              "color": "#EBF0F8"
             },
             "line": {
              "color": "white"
             }
            },
            "header": {
             "fill": {
              "color": "#C8D4E3"
             },
             "line": {
              "color": "white"
             }
            },
            "type": "table"
           }
          ]
         },
         "layout": {
          "annotationdefaults": {
           "arrowcolor": "#2a3f5f",
           "arrowhead": 0,
           "arrowwidth": 1
          },
          "autotypenumbers": "strict",
          "coloraxis": {
           "colorbar": {
            "outlinewidth": 0,
            "ticks": ""
           }
          },
          "colorscale": {
           "diverging": [
            [
             0,
             "#8e0152"
            ],
            [
             0.1,
             "#c51b7d"
            ],
            [
             0.2,
             "#de77ae"
            ],
            [
             0.3,
             "#f1b6da"
            ],
            [
             0.4,
             "#fde0ef"
            ],
            [
             0.5,
             "#f7f7f7"
            ],
            [
             0.6,
             "#e6f5d0"
            ],
            [
             0.7,
             "#b8e186"
            ],
            [
             0.8,
             "#7fbc41"
            ],
            [
             0.9,
             "#4d9221"
            ],
            [
             1,
             "#276419"
            ]
           ],
           "sequential": [
            [
             0,
             "#0d0887"
            ],
            [
             0.1111111111111111,
             "#46039f"
            ],
            [
             0.2222222222222222,
             "#7201a8"
            ],
            [
             0.3333333333333333,
             "#9c179e"
            ],
            [
             0.4444444444444444,
             "#bd3786"
            ],
            [
             0.5555555555555556,
             "#d8576b"
            ],
            [
             0.6666666666666666,
             "#ed7953"
            ],
            [
             0.7777777777777778,
             "#fb9f3a"
            ],
            [
             0.8888888888888888,
             "#fdca26"
            ],
            [
             1,
             "#f0f921"
            ]
           ],
           "sequentialminus": [
            [
             0,
             "#0d0887"
            ],
            [
             0.1111111111111111,
             "#46039f"
            ],
            [
             0.2222222222222222,
             "#7201a8"
            ],
            [
             0.3333333333333333,
             "#9c179e"
            ],
            [
             0.4444444444444444,
             "#bd3786"
            ],
            [
             0.5555555555555556,
             "#d8576b"
            ],
            [
             0.6666666666666666,
             "#ed7953"
            ],
            [
             0.7777777777777778,
             "#fb9f3a"
            ],
            [
             0.8888888888888888,
             "#fdca26"
            ],
            [
             1,
             "#f0f921"
            ]
           ]
          },
          "colorway": [
           "#636efa",
           "#EF553B",
           "#00cc96",
           "#ab63fa",
           "#FFA15A",
           "#19d3f3",
           "#FF6692",
           "#B6E880",
           "#FF97FF",
           "#FECB52"
          ],
          "font": {
           "color": "#2a3f5f"
          },
          "geo": {
           "bgcolor": "white",
           "lakecolor": "white",
           "landcolor": "#E5ECF6",
           "showlakes": true,
           "showland": true,
           "subunitcolor": "white"
          },
          "hoverlabel": {
           "align": "left"
          },
          "hovermode": "closest",
          "mapbox": {
           "style": "light"
          },
          "paper_bgcolor": "white",
          "plot_bgcolor": "#E5ECF6",
          "polar": {
           "angularaxis": {
            "gridcolor": "white",
            "linecolor": "white",
            "ticks": ""
           },
           "bgcolor": "#E5ECF6",
           "radialaxis": {
            "gridcolor": "white",
            "linecolor": "white",
            "ticks": ""
           }
          },
          "scene": {
           "xaxis": {
            "backgroundcolor": "#E5ECF6",
            "gridcolor": "white",
            "gridwidth": 2,
            "linecolor": "white",
            "showbackground": true,
            "ticks": "",
            "zerolinecolor": "white"
           },
           "yaxis": {
            "backgroundcolor": "#E5ECF6",
            "gridcolor": "white",
            "gridwidth": 2,
            "linecolor": "white",
            "showbackground": true,
            "ticks": "",
            "zerolinecolor": "white"
           },
           "zaxis": {
            "backgroundcolor": "#E5ECF6",
            "gridcolor": "white",
            "gridwidth": 2,
            "linecolor": "white",
            "showbackground": true,
            "ticks": "",
            "zerolinecolor": "white"
           }
          },
          "shapedefaults": {
           "line": {
            "color": "#2a3f5f"
           }
          },
          "ternary": {
           "aaxis": {
            "gridcolor": "white",
            "linecolor": "white",
            "ticks": ""
           },
           "baxis": {
            "gridcolor": "white",
            "linecolor": "white",
            "ticks": ""
           },
           "bgcolor": "#E5ECF6",
           "caxis": {
            "gridcolor": "white",
            "linecolor": "white",
            "ticks": ""
           }
          },
          "title": {
           "x": 0.05
          },
          "xaxis": {
           "automargin": true,
           "gridcolor": "white",
           "linecolor": "white",
           "ticks": "",
           "title": {
            "standoff": 15
           },
           "zerolinecolor": "white",
           "zerolinewidth": 2
          },
          "yaxis": {
           "automargin": true,
           "gridcolor": "white",
           "linecolor": "white",
           "ticks": "",
           "title": {
            "standoff": 15
           },
           "zerolinecolor": "white",
           "zerolinewidth": 2
          }
         }
        },
        "title": {
         "text": "Species by Ward"
        },
        "xaxis": {
         "anchor": "y",
         "domain": [
          0,
          1
         ],
         "title": {
          "text": "WARD"
         }
        },
        "yaxis": {
         "anchor": "x",
         "domain": [
          0,
          1
         ],
         "title": {
          "text": "count"
         }
        }
       }
      },
      "text/html": [
       "<div>                            <div id=\"9e27e4c1-c129-4cb2-b02e-f11211cf704f\" class=\"plotly-graph-div\" style=\"height:525px; width:100%;\"></div>            <script type=\"text/javascript\">                require([\"plotly\"], function(Plotly) {                    window.PLOTLYENV=window.PLOTLYENV || {};                                    if (document.getElementById(\"9e27e4c1-c129-4cb2-b02e-f11211cf704f\")) {                    Plotly.newPlot(                        \"9e27e4c1-c129-4cb2-b02e-f11211cf704f\",                        [{\"alignmentgroup\":\"True\",\"hovertemplate\":\"species_general=Accolade\\u003cbr\\u003eWARD=%{x}\\u003cbr\\u003ecount=%{y}\\u003cextra\\u003e\\u003c\\u002fextra\\u003e\",\"legendgroup\":\"Accolade\",\"marker\":{\"color\":\"#636efa\",\"pattern\":{\"shape\":\"\"}},\"name\":\"Accolade\",\"offsetgroup\":\"Accolade\",\"orientation\":\"v\",\"showlegend\":true,\"textposition\":\"auto\",\"x\":[1,2,3,4,6,7,8,9,10,12,14,15,16,19,21,22,23,24],\"xaxis\":\"x\",\"y\":[3,8,13,4,4,5,12,4,4,4,3,1,3,5,3,2,5,18],\"yaxis\":\"y\",\"type\":\"bar\"},{\"alignmentgroup\":\"True\",\"hovertemplate\":\"species_general=Alder\\u003cbr\\u003eWARD=%{x}\\u003cbr\\u003ecount=%{y}\\u003cextra\\u003e\\u003c\\u002fextra\\u003e\",\"legendgroup\":\"Alder\",\"marker\":{\"color\":\"#EF553B\",\"pattern\":{\"shape\":\"\"}},\"name\":\"Alder\",\"offsetgroup\":\"Alder\",\"orientation\":\"v\",\"showlegend\":true,\"textposition\":\"auto\",\"x\":[3,5,6,7,16,17,18,19,20,21,22,23],\"xaxis\":\"x\",\"y\":[7,1,1,1,1,4,4,5,1,7,2,1],\"yaxis\":\"y\",\"type\":\"bar\"},{\"alignmentgroup\":\"True\",\"hovertemplate\":\"species_general=Almond\\u003cbr\\u003eWARD=%{x}\\u003cbr\\u003ecount=%{y}\\u003cextra\\u003e\\u003c\\u002fextra\\u003e\",\"legendgroup\":\"Almond\",\"marker\":{\"color\":\"#00cc96\",\"pattern\":{\"shape\":\"\"}},\"name\":\"Almond\",\"offsetgroup\":\"Almond\",\"orientation\":\"v\",\"showlegend\":true,\"textposition\":\"auto\",\"x\":[1,8],\"xaxis\":\"x\",\"y\":[1,1],\"yaxis\":\"y\",\"type\":\"bar\"},{\"alignmentgroup\":\"True\",\"hovertemplate\":\"species_general=Alternate-leaved\\u003cbr\\u003eWARD=%{x}\\u003cbr\\u003ecount=%{y}\\u003cextra\\u003e\\u003c\\u002fextra\\u003e\",\"legendgroup\":\"Alternate-leaved\",\"marker\":{\"color\":\"#ab63fa\",\"pattern\":{\"shape\":\"\"}},\"name\":\"Alternate-leaved\",\"offsetgroup\":\"Alternate-leaved\",\"orientation\":\"v\",\"showlegend\":true,\"textposition\":\"auto\",\"x\":[1,4,6,7,9,17,20],\"xaxis\":\"x\",\"y\":[1,4,2,1,2,2,4],\"yaxis\":\"y\",\"type\":\"bar\"},{\"alignmentgroup\":\"True\",\"hovertemplate\":\"species_general=Amur\\u003cbr\\u003eWARD=%{x}\\u003cbr\\u003ecount=%{y}\\u003cextra\\u003e\\u003c\\u002fextra\\u003e\",\"legendgroup\":\"Amur\",\"marker\":{\"color\":\"#FFA15A\",\"pattern\":{\"shape\":\"\"}},\"name\":\"Amur\",\"offsetgroup\":\"Amur\",\"orientation\":\"v\",\"showlegend\":true,\"textposition\":\"auto\",\"x\":[1,2,3,4,5,6,7,8,9,10,11,12,13,14,15,16,17,18,19,20,21,22,23,24],\"xaxis\":\"x\",\"y\":[10,14,28,17,1,30,14,28,25,28,8,10,10,8,8,10,12,10,31,7,6,27,17,23],\"yaxis\":\"y\",\"type\":\"bar\"},{\"alignmentgroup\":\"True\",\"hovertemplate\":\"species_general=Apple\\u003cbr\\u003eWARD=%{x}\\u003cbr\\u003ecount=%{y}\\u003cextra\\u003e\\u003c\\u002fextra\\u003e\",\"legendgroup\":\"Apple\",\"marker\":{\"color\":\"#19d3f3\",\"pattern\":{\"shape\":\"\"}},\"name\":\"Apple\",\"offsetgroup\":\"Apple\",\"orientation\":\"v\",\"showlegend\":true,\"textposition\":\"auto\",\"x\":[1,2,3,4,5,6,7,8,9,10,11,12,13,14,15,16,17,18,19,20,21,22,23,24],\"xaxis\":\"x\",\"y\":[47,30,47,62,125,31,32,33,58,61,29,25,33,24,41,50,84,30,45,150,263,22,66,63],\"yaxis\":\"y\",\"type\":\"bar\"},{\"alignmentgroup\":\"True\",\"hovertemplate\":\"species_general=Ash\\u003cbr\\u003eWARD=%{x}\\u003cbr\\u003ecount=%{y}\\u003cextra\\u003e\\u003c\\u002fextra\\u003e\",\"legendgroup\":\"Ash\",\"marker\":{\"color\":\"#FF6692\",\"pattern\":{\"shape\":\"\"}},\"name\":\"Ash\",\"offsetgroup\":\"Ash\",\"orientation\":\"v\",\"showlegend\":true,\"textposition\":\"auto\",\"x\":[1,2,3,4,5,6,7,8,9,10,11,12,13,14,15,16,17,18,19,20,21,22,23,24],\"xaxis\":\"x\",\"y\":[716,578,732,1326,1603,271,977,1509,509,1219,511,712,1213,269,417,1368,505,2278,1080,600,3558,254,1332,1580],\"yaxis\":\"y\",\"type\":\"bar\"},{\"alignmentgroup\":\"True\",\"hovertemplate\":\"species_general=Aspen\\u003cbr\\u003eWARD=%{x}\\u003cbr\\u003ecount=%{y}\\u003cextra\\u003e\\u003c\\u002fextra\\u003e\",\"legendgroup\":\"Aspen\",\"marker\":{\"color\":\"#B6E880\",\"pattern\":{\"shape\":\"\"}},\"name\":\"Aspen\",\"offsetgroup\":\"Aspen\",\"orientation\":\"v\",\"showlegend\":true,\"textposition\":\"auto\",\"x\":[1,2,3,4,5,6,7,8,9,10,11,12,13,14,15,16,17,18,19,20,21,22,23,24],\"xaxis\":\"x\",\"y\":[231,101,44,62,443,45,25,39,62,243,16,8,20,6,4,31,9,17,309,476,1060,30,54,24],\"yaxis\":\"y\",\"type\":\"bar\"},{\"alignmentgroup\":\"True\",\"hovertemplate\":\"species_general=Basswood\\u003cbr\\u003eWARD=%{x}\\u003cbr\\u003ecount=%{y}\\u003cextra\\u003e\\u003c\\u002fextra\\u003e\",\"legendgroup\":\"Basswood\",\"marker\":{\"color\":\"#FF97FF\",\"pattern\":{\"shape\":\"\"}},\"name\":\"Basswood\",\"offsetgroup\":\"Basswood\",\"orientation\":\"v\",\"showlegend\":true,\"textposition\":\"auto\",\"x\":[1,2,3,4,5,6,7,8,9,10,11,12,13,14,15,16,17,18,19,20,21,22,23,24],\"xaxis\":\"x\",\"y\":[120,118,141,143,262,142,108,136,94,137,84,81,163,156,82,78,139,137,298,109,416,104,136,281],\"yaxis\":\"y\",\"type\":\"bar\"},{\"alignmentgroup\":\"True\",\"hovertemplate\":\"species_general=Beech\\u003cbr\\u003eWARD=%{x}\\u003cbr\\u003ecount=%{y}\\u003cextra\\u003e\\u003c\\u002fextra\\u003e\",\"legendgroup\":\"Beech\",\"marker\":{\"color\":\"#FECB52\",\"pattern\":{\"shape\":\"\"}},\"name\":\"Beech\",\"offsetgroup\":\"Beech\",\"orientation\":\"v\",\"showlegend\":true,\"textposition\":\"auto\",\"x\":[1,2,3,4,5,6,7,8,9,10,11,12,13,14,15,16,17,18,19,20,21,22,23,24],\"xaxis\":\"x\",\"y\":[28,29,32,26,4,43,17,14,23,43,16,14,48,5,10,12,11,17,66,9,30,44,11,8],\"yaxis\":\"y\",\"type\":\"bar\"},{\"alignmentgroup\":\"True\",\"hovertemplate\":\"species_general=Birch\\u003cbr\\u003eWARD=%{x}\\u003cbr\\u003ecount=%{y}\\u003cextra\\u003e\\u003c\\u002fextra\\u003e\",\"legendgroup\":\"Birch\",\"marker\":{\"color\":\"#636efa\",\"pattern\":{\"shape\":\"\"}},\"name\":\"Birch\",\"offsetgroup\":\"Birch\",\"orientation\":\"v\",\"showlegend\":true,\"textposition\":\"auto\",\"x\":[1,2,3,4,5,6,7,8,9,10,11,12,13,14,15,16,17,18,19,20,21,22,23,24],\"xaxis\":\"x\",\"y\":[66,118,118,159,122,91,90,186,191,60,78,38,81,32,89,63,46,73,123,215,302,46,134,37],\"yaxis\":\"y\",\"type\":\"bar\"},{\"alignmentgroup\":\"True\",\"hovertemplate\":\"species_general=Buckeye\\u003cbr\\u003eWARD=%{x}\\u003cbr\\u003ecount=%{y}\\u003cextra\\u003e\\u003c\\u002fextra\\u003e\",\"legendgroup\":\"Buckeye\",\"marker\":{\"color\":\"#EF553B\",\"pattern\":{\"shape\":\"\"}},\"name\":\"Buckeye\",\"offsetgroup\":\"Buckeye\",\"orientation\":\"v\",\"showlegend\":true,\"textposition\":\"auto\",\"x\":[1,2,3,4,5,6,7,8,9,10,11,12,13,14,15,16,17,18,19,20,21,22,23,24],\"xaxis\":\"x\",\"y\":[30,10,6,23,4,6,25,11,9,13,14,8,19,2,13,19,7,22,8,1,8,6,16,58],\"yaxis\":\"y\",\"type\":\"bar\"},{\"alignmentgroup\":\"True\",\"hovertemplate\":\"species_general=Butternut\\u003cbr\\u003eWARD=%{x}\\u003cbr\\u003ecount=%{y}\\u003cextra\\u003e\\u003c\\u002fextra\\u003e\",\"legendgroup\":\"Butternut\",\"marker\":{\"color\":\"#00cc96\",\"pattern\":{\"shape\":\"\"}},\"name\":\"Butternut\",\"offsetgroup\":\"Butternut\",\"orientation\":\"v\",\"showlegend\":true,\"textposition\":\"auto\",\"x\":[1,2,3,4,5,6,7,8,9,10,11,12,13,15,16,17,18,19,20,21,22,23,24],\"xaxis\":\"x\",\"y\":[10,24,10,8,23,51,12,14,7,6,2,2,20,4,11,16,8,20,17,48,12,25,6],\"yaxis\":\"y\",\"type\":\"bar\"},{\"alignmentgroup\":\"True\",\"hovertemplate\":\"species_general=Canadian\\u003cbr\\u003eWARD=%{x}\\u003cbr\\u003ecount=%{y}\\u003cextra\\u003e\\u003c\\u002fextra\\u003e\",\"legendgroup\":\"Canadian\",\"marker\":{\"color\":\"#ab63fa\",\"pattern\":{\"shape\":\"\"}},\"name\":\"Canadian\",\"offsetgroup\":\"Canadian\",\"orientation\":\"v\",\"showlegend\":true,\"textposition\":\"auto\",\"x\":[2,3,9,16,23],\"xaxis\":\"x\",\"y\":[1,2,2,1,2],\"yaxis\":\"y\",\"type\":\"bar\"},{\"alignmentgroup\":\"True\",\"hovertemplate\":\"species_general=Catalpa\\u003cbr\\u003eWARD=%{x}\\u003cbr\\u003ecount=%{y}\\u003cextra\\u003e\\u003c\\u002fextra\\u003e\",\"legendgroup\":\"Catalpa\",\"marker\":{\"color\":\"#FFA15A\",\"pattern\":{\"shape\":\"\"}},\"name\":\"Catalpa\",\"offsetgroup\":\"Catalpa\",\"orientation\":\"v\",\"showlegend\":true,\"textposition\":\"auto\",\"x\":[1,2,3,4,5,6,7,8,9,10,11,12,13,14,15,16,17,18,19,20,21,22,23,24],\"xaxis\":\"x\",\"y\":[22,26,49,23,4,38,82,67,43,39,13,37,26,6,44,29,48,48,37,1,36,10,21,16],\"yaxis\":\"y\",\"type\":\"bar\"},{\"alignmentgroup\":\"True\",\"hovertemplate\":\"species_general=Cedar\\u003cbr\\u003eWARD=%{x}\\u003cbr\\u003ecount=%{y}\\u003cextra\\u003e\\u003c\\u002fextra\\u003e\",\"legendgroup\":\"Cedar\",\"marker\":{\"color\":\"#19d3f3\",\"pattern\":{\"shape\":\"\"}},\"name\":\"Cedar\",\"offsetgroup\":\"Cedar\",\"orientation\":\"v\",\"showlegend\":true,\"textposition\":\"auto\",\"x\":[1,2,3,4,5,6,7,8,9,10,11,12,13,14,15,16,17,18,19,20,21,22,23,24],\"xaxis\":\"x\",\"y\":[275,136,105,259,651,195,98,110,81,58,54,103,132,38,124,164,121,88,163,197,855,125,362,163],\"yaxis\":\"y\",\"type\":\"bar\"},{\"alignmentgroup\":\"True\",\"hovertemplate\":\"species_general=Cherry\\u003cbr\\u003eWARD=%{x}\\u003cbr\\u003ecount=%{y}\\u003cextra\\u003e\\u003c\\u002fextra\\u003e\",\"legendgroup\":\"Cherry\",\"marker\":{\"color\":\"#FF6692\",\"pattern\":{\"shape\":\"\"}},\"name\":\"Cherry\",\"offsetgroup\":\"Cherry\",\"orientation\":\"v\",\"showlegend\":true,\"textposition\":\"auto\",\"x\":[1,2,3,4,5,6,7,8,9,10,11,12,13,14,15,16,17,18,19,20,21,22,23,24],\"xaxis\":\"x\",\"y\":[90,77,79,235,90,57,89,93,107,196,37,145,136,164,282,144,260,155,180,78,115,48,180,388],\"yaxis\":\"y\",\"type\":\"bar\"},{\"alignmentgroup\":\"True\",\"hovertemplate\":\"species_general=Chinkapin\\u003cbr\\u003eWARD=%{x}\\u003cbr\\u003ecount=%{y}\\u003cextra\\u003e\\u003c\\u002fextra\\u003e\",\"legendgroup\":\"Chinkapin\",\"marker\":{\"color\":\"#B6E880\",\"pattern\":{\"shape\":\"\"}},\"name\":\"Chinkapin\",\"offsetgroup\":\"Chinkapin\",\"orientation\":\"v\",\"showlegend\":true,\"textposition\":\"auto\",\"x\":[5,16,23],\"xaxis\":\"x\",\"y\":[1,3,4],\"yaxis\":\"y\",\"type\":\"bar\"},{\"alignmentgroup\":\"True\",\"hovertemplate\":\"species_general=Chokeberry\\u003cbr\\u003eWARD=%{x}\\u003cbr\\u003ecount=%{y}\\u003cextra\\u003e\\u003c\\u002fextra\\u003e\",\"legendgroup\":\"Chokeberry\",\"marker\":{\"color\":\"#FF97FF\",\"pattern\":{\"shape\":\"\"}},\"name\":\"Chokeberry\",\"offsetgroup\":\"Chokeberry\",\"orientation\":\"v\",\"showlegend\":true,\"textposition\":\"auto\",\"x\":[23],\"xaxis\":\"x\",\"y\":[7],\"yaxis\":\"y\",\"type\":\"bar\"},{\"alignmentgroup\":\"True\",\"hovertemplate\":\"species_general=Coffeetree\\u003cbr\\u003eWARD=%{x}\\u003cbr\\u003ecount=%{y}\\u003cextra\\u003e\\u003c\\u002fextra\\u003e\",\"legendgroup\":\"Coffeetree\",\"marker\":{\"color\":\"#FECB52\",\"pattern\":{\"shape\":\"\"}},\"name\":\"Coffeetree\",\"offsetgroup\":\"Coffeetree\",\"orientation\":\"v\",\"showlegend\":true,\"textposition\":\"auto\",\"x\":[1,2,3,4,5,6,7,8,9,10,11,12,13,14,15,16,17,18,19,20,21,22,23,24],\"xaxis\":\"x\",\"y\":[33,46,63,38,8,54,59,36,43,60,12,27,10,6,21,29,16,32,14,2,31,48,58,36],\"yaxis\":\"y\",\"type\":\"bar\"},{\"alignmentgroup\":\"True\",\"hovertemplate\":\"species_general=Cottonwood\\u003cbr\\u003eWARD=%{x}\\u003cbr\\u003ecount=%{y}\\u003cextra\\u003e\\u003c\\u002fextra\\u003e\",\"legendgroup\":\"Cottonwood\",\"marker\":{\"color\":\"#636efa\",\"pattern\":{\"shape\":\"\"}},\"name\":\"Cottonwood\",\"offsetgroup\":\"Cottonwood\",\"orientation\":\"v\",\"showlegend\":true,\"textposition\":\"auto\",\"x\":[1,2,3,4,5,6,7,8,9,10,11,12,13,14,15,16,17,18,19,20,21,22,23,24],\"xaxis\":\"x\",\"y\":[129,31,6,25,134,16,209,7,25,50,18,12,14,1,27,78,46,26,102,133,347,4,22,23],\"yaxis\":\"y\",\"type\":\"bar\"},{\"alignmentgroup\":\"True\",\"hovertemplate\":\"species_general=Crabapple\\u003cbr\\u003eWARD=%{x}\\u003cbr\\u003ecount=%{y}\\u003cextra\\u003e\\u003c\\u002fextra\\u003e\",\"legendgroup\":\"Crabapple\",\"marker\":{\"color\":\"#EF553B\",\"pattern\":{\"shape\":\"\"}},\"name\":\"Crabapple\",\"offsetgroup\":\"Crabapple\",\"orientation\":\"v\",\"showlegend\":true,\"textposition\":\"auto\",\"x\":[1,2,3,4,5,6,7,8,9,10,11,12,13,14,15,16,17,18,19,20,21,22,23,24],\"xaxis\":\"x\",\"y\":[293,236,698,593,105,405,412,462,520,623,257,261,470,303,552,390,431,396,800,77,421,779,787,475],\"yaxis\":\"y\",\"type\":\"bar\"},{\"alignmentgroup\":\"True\",\"hovertemplate\":\"species_general=Dawn\\u003cbr\\u003eWARD=%{x}\\u003cbr\\u003ecount=%{y}\\u003cextra\\u003e\\u003c\\u002fextra\\u003e\",\"legendgroup\":\"Dawn\",\"marker\":{\"color\":\"#00cc96\",\"pattern\":{\"shape\":\"\"}},\"name\":\"Dawn\",\"offsetgroup\":\"Dawn\",\"orientation\":\"v\",\"showlegend\":true,\"textposition\":\"auto\",\"x\":[5,8],\"xaxis\":\"x\",\"y\":[1,1],\"yaxis\":\"y\",\"type\":\"bar\"},{\"alignmentgroup\":\"True\",\"hovertemplate\":\"species_general=Dogwood\\u003cbr\\u003eWARD=%{x}\\u003cbr\\u003ecount=%{y}\\u003cextra\\u003e\\u003c\\u002fextra\\u003e\",\"legendgroup\":\"Dogwood\",\"marker\":{\"color\":\"#ab63fa\",\"pattern\":{\"shape\":\"\"}},\"name\":\"Dogwood\",\"offsetgroup\":\"Dogwood\",\"orientation\":\"v\",\"showlegend\":true,\"textposition\":\"auto\",\"x\":[1,2,4,9,13,17,19,20,21,23],\"xaxis\":\"x\",\"y\":[2,1,1,2,1,1,2,6,8,1],\"yaxis\":\"y\",\"type\":\"bar\"},{\"alignmentgroup\":\"True\",\"hovertemplate\":\"species_general=Elderberry\\u003cbr\\u003eWARD=%{x}\\u003cbr\\u003ecount=%{y}\\u003cextra\\u003e\\u003c\\u002fextra\\u003e\",\"legendgroup\":\"Elderberry\",\"marker\":{\"color\":\"#FFA15A\",\"pattern\":{\"shape\":\"\"}},\"name\":\"Elderberry\",\"offsetgroup\":\"Elderberry\",\"orientation\":\"v\",\"showlegend\":true,\"textposition\":\"auto\",\"x\":[1,2,3,4,6,7,8,9,15,18,23],\"xaxis\":\"x\",\"y\":[1,1,1,2,2,2,1,8,1,3,4],\"yaxis\":\"y\",\"type\":\"bar\"},{\"alignmentgroup\":\"True\",\"hovertemplate\":\"species_general=Elm\\u003cbr\\u003eWARD=%{x}\\u003cbr\\u003ecount=%{y}\\u003cextra\\u003e\\u003c\\u002fextra\\u003e\",\"legendgroup\":\"Elm\",\"marker\":{\"color\":\"#19d3f3\",\"pattern\":{\"shape\":\"\"}},\"name\":\"Elm\",\"offsetgroup\":\"Elm\",\"orientation\":\"v\",\"showlegend\":true,\"textposition\":\"auto\",\"x\":[1,2,3,4,5,6,7,8,9,10,11,12,13,14,15,16,17,18,19,20,21,22,23,24],\"xaxis\":\"x\",\"y\":[299,311,371,336,2110,438,391,451,276,375,274,604,427,499,466,324,513,536,694,782,2439,217,326,511],\"yaxis\":\"y\",\"type\":\"bar\"},{\"alignmentgroup\":\"True\",\"hovertemplate\":\"species_general=False\\u003cbr\\u003eWARD=%{x}\\u003cbr\\u003ecount=%{y}\\u003cextra\\u003e\\u003c\\u002fextra\\u003e\",\"legendgroup\":\"False\",\"marker\":{\"color\":\"#FF6692\",\"pattern\":{\"shape\":\"\"}},\"name\":\"False\",\"offsetgroup\":\"False\",\"orientation\":\"v\",\"showlegend\":true,\"textposition\":\"auto\",\"x\":[3,10,17,18,19,21,23,24],\"xaxis\":\"x\",\"y\":[1,1,2,3,1,3,2,11],\"yaxis\":\"y\",\"type\":\"bar\"},{\"alignmentgroup\":\"True\",\"hovertemplate\":\"species_general=Fir\\u003cbr\\u003eWARD=%{x}\\u003cbr\\u003ecount=%{y}\\u003cextra\\u003e\\u003c\\u002fextra\\u003e\",\"legendgroup\":\"Fir\",\"marker\":{\"color\":\"#B6E880\",\"pattern\":{\"shape\":\"\"}},\"name\":\"Fir\",\"offsetgroup\":\"Fir\",\"orientation\":\"v\",\"showlegend\":true,\"textposition\":\"auto\",\"x\":[1,2,3,4,5,6,7,8,9,10,11,12,13,14,15,16,17,18,19,20,21,22,23,24],\"xaxis\":\"x\",\"y\":[76,80,44,79,113,74,36,90,76,42,72,16,49,8,42,65,31,41,69,51,187,9,92,45],\"yaxis\":\"y\",\"type\":\"bar\"},{\"alignmentgroup\":\"True\",\"hovertemplate\":\"species_general=Flowering\\u003cbr\\u003eWARD=%{x}\\u003cbr\\u003ecount=%{y}\\u003cextra\\u003e\\u003c\\u002fextra\\u003e\",\"legendgroup\":\"Flowering\",\"marker\":{\"color\":\"#FF97FF\",\"pattern\":{\"shape\":\"\"}},\"name\":\"Flowering\",\"offsetgroup\":\"Flowering\",\"orientation\":\"v\",\"showlegend\":true,\"textposition\":\"auto\",\"x\":[2,3,10,13,19,22,23],\"xaxis\":\"x\",\"y\":[2,1,6,1,9,3,1],\"yaxis\":\"y\",\"type\":\"bar\"},{\"alignmentgroup\":\"True\",\"hovertemplate\":\"species_general=Fragrant\\u003cbr\\u003eWARD=%{x}\\u003cbr\\u003ecount=%{y}\\u003cextra\\u003e\\u003c\\u002fextra\\u003e\",\"legendgroup\":\"Fragrant\",\"marker\":{\"color\":\"#FECB52\",\"pattern\":{\"shape\":\"\"}},\"name\":\"Fragrant\",\"offsetgroup\":\"Fragrant\",\"orientation\":\"v\",\"showlegend\":true,\"textposition\":\"auto\",\"x\":[15,21],\"xaxis\":\"x\",\"y\":[1,1],\"yaxis\":\"y\",\"type\":\"bar\"},{\"alignmentgroup\":\"True\",\"hovertemplate\":\"species_general=Ginkgo\\u003cbr\\u003eWARD=%{x}\\u003cbr\\u003ecount=%{y}\\u003cextra\\u003e\\u003c\\u002fextra\\u003e\",\"legendgroup\":\"Ginkgo\",\"marker\":{\"color\":\"#636efa\",\"pattern\":{\"shape\":\"\"}},\"name\":\"Ginkgo\",\"offsetgroup\":\"Ginkgo\",\"orientation\":\"v\",\"showlegend\":true,\"textposition\":\"auto\",\"x\":[1,2,3,4,5,6,7,8,9,10,11,12,13,14,15,16,17,18,19,20,21,22,23,24],\"xaxis\":\"x\",\"y\":[190,166,275,251,10,248,251,239,123,193,78,141,143,202,162,255,148,328,234,14,131,201,193,447],\"yaxis\":\"y\",\"type\":\"bar\"},{\"alignmentgroup\":\"True\",\"hovertemplate\":\"species_general=Goldenchain\\u003cbr\\u003eWARD=%{x}\\u003cbr\\u003ecount=%{y}\\u003cextra\\u003e\\u003c\\u002fextra\\u003e\",\"legendgroup\":\"Goldenchain\",\"marker\":{\"color\":\"#EF553B\",\"pattern\":{\"shape\":\"\"}},\"name\":\"Goldenchain\",\"offsetgroup\":\"Goldenchain\",\"orientation\":\"v\",\"showlegend\":true,\"textposition\":\"auto\",\"x\":[2,17,23,24],\"xaxis\":\"x\",\"y\":[1,3,1,7],\"yaxis\":\"y\",\"type\":\"bar\"},{\"alignmentgroup\":\"True\",\"hovertemplate\":\"species_general=Grey\\u003cbr\\u003eWARD=%{x}\\u003cbr\\u003ecount=%{y}\\u003cextra\\u003e\\u003c\\u002fextra\\u003e\",\"legendgroup\":\"Grey\",\"marker\":{\"color\":\"#00cc96\",\"pattern\":{\"shape\":\"\"}},\"name\":\"Grey\",\"offsetgroup\":\"Grey\",\"orientation\":\"v\",\"showlegend\":true,\"textposition\":\"auto\",\"x\":[20],\"xaxis\":\"x\",\"y\":[1],\"yaxis\":\"y\",\"type\":\"bar\"},{\"alignmentgroup\":\"True\",\"hovertemplate\":\"species_general=Hackberry\\u003cbr\\u003eWARD=%{x}\\u003cbr\\u003ecount=%{y}\\u003cextra\\u003e\\u003c\\u002fextra\\u003e\",\"legendgroup\":\"Hackberry\",\"marker\":{\"color\":\"#ab63fa\",\"pattern\":{\"shape\":\"\"}},\"name\":\"Hackberry\",\"offsetgroup\":\"Hackberry\",\"orientation\":\"v\",\"showlegend\":true,\"textposition\":\"auto\",\"x\":[1,2,3,4,5,6,7,8,9,10,11,12,13,14,15,16,17,18,19,20,21,22,23,24],\"xaxis\":\"x\",\"y\":[419,387,644,512,50,750,323,265,241,411,205,263,368,212,224,472,248,489,656,89,392,738,493,1230],\"yaxis\":\"y\",\"type\":\"bar\"},{\"alignmentgroup\":\"True\",\"hovertemplate\":\"species_general=Hawthorn\\u003cbr\\u003eWARD=%{x}\\u003cbr\\u003ecount=%{y}\\u003cextra\\u003e\\u003c\\u002fextra\\u003e\",\"legendgroup\":\"Hawthorn\",\"marker\":{\"color\":\"#FFA15A\",\"pattern\":{\"shape\":\"\"}},\"name\":\"Hawthorn\",\"offsetgroup\":\"Hawthorn\",\"orientation\":\"v\",\"showlegend\":true,\"textposition\":\"auto\",\"x\":[1,2,3,4,5,6,7,8,9,10,11,12,13,14,15,16,17,18,19,21,22,23,24],\"xaxis\":\"x\",\"y\":[14,13,7,14,23,21,21,15,4,13,8,13,20,6,7,5,11,34,3,46,3,13,21],\"yaxis\":\"y\",\"type\":\"bar\"},{\"alignmentgroup\":\"True\",\"hovertemplate\":\"species_general=Hazel\\u003cbr\\u003eWARD=%{x}\\u003cbr\\u003ecount=%{y}\\u003cextra\\u003e\\u003c\\u002fextra\\u003e\",\"legendgroup\":\"Hazel\",\"marker\":{\"color\":\"#19d3f3\",\"pattern\":{\"shape\":\"\"}},\"name\":\"Hazel\",\"offsetgroup\":\"Hazel\",\"orientation\":\"v\",\"showlegend\":true,\"textposition\":\"auto\",\"x\":[1,2,3,4,5,6,7,8,9,10,11,12,13,14,15,16,17,18,19,20,21,22,23,24],\"xaxis\":\"x\",\"y\":[28,36,67,26,8,95,48,64,34,66,12,23,64,23,30,87,53,102,46,4,16,87,60,50],\"yaxis\":\"y\",\"type\":\"bar\"},{\"alignmentgroup\":\"True\",\"hovertemplate\":\"species_general=Hedge\\u003cbr\\u003eWARD=%{x}\\u003cbr\\u003ecount=%{y}\\u003cextra\\u003e\\u003c\\u002fextra\\u003e\",\"legendgroup\":\"Hedge\",\"marker\":{\"color\":\"#FF6692\",\"pattern\":{\"shape\":\"\"}},\"name\":\"Hedge\",\"offsetgroup\":\"Hedge\",\"orientation\":\"v\",\"showlegend\":true,\"textposition\":\"auto\",\"x\":[2,3,4,5,6,7,8,10,13,19,20,21,22,23],\"xaxis\":\"x\",\"y\":[6,9,31,2611,9,19,73,133,2,329,557,1403,6,12],\"yaxis\":\"y\",\"type\":\"bar\"},{\"alignmentgroup\":\"True\",\"hovertemplate\":\"species_general=Hemlock\\u003cbr\\u003eWARD=%{x}\\u003cbr\\u003ecount=%{y}\\u003cextra\\u003e\\u003c\\u002fextra\\u003e\",\"legendgroup\":\"Hemlock\",\"marker\":{\"color\":\"#B6E880\",\"pattern\":{\"shape\":\"\"}},\"name\":\"Hemlock\",\"offsetgroup\":\"Hemlock\",\"orientation\":\"v\",\"showlegend\":true,\"textposition\":\"auto\",\"x\":[1,2,3,4,5,6,7,8,9,11,12,13,15,17,18,19,20,21,23,24],\"xaxis\":\"x\",\"y\":[2,7,13,21,5,4,7,4,9,2,1,26,7,14,14,30,4,9,5,9],\"yaxis\":\"y\",\"type\":\"bar\"},{\"alignmentgroup\":\"True\",\"hovertemplate\":\"species_general=Hickory\\u003cbr\\u003eWARD=%{x}\\u003cbr\\u003ecount=%{y}\\u003cextra\\u003e\\u003c\\u002fextra\\u003e\",\"legendgroup\":\"Hickory\",\"marker\":{\"color\":\"#FF97FF\",\"pattern\":{\"shape\":\"\"}},\"name\":\"Hickory\",\"offsetgroup\":\"Hickory\",\"orientation\":\"v\",\"showlegend\":true,\"textposition\":\"auto\",\"x\":[1,2,3,4,5,6,7,8,9,10,11,12,13,14,15,16,17,18,19,20,21,22,23,24],\"xaxis\":\"x\",\"y\":[37,19,25,2,23,16,8,8,3,8,6,17,16,1,6,22,8,36,17,13,34,15,9,10],\"yaxis\":\"y\",\"type\":\"bar\"},{\"alignmentgroup\":\"True\",\"hovertemplate\":\"species_general=Homestead\\u003cbr\\u003eWARD=%{x}\\u003cbr\\u003ecount=%{y}\\u003cextra\\u003e\\u003c\\u002fextra\\u003e\",\"legendgroup\":\"Homestead\",\"marker\":{\"color\":\"#FECB52\",\"pattern\":{\"shape\":\"\"}},\"name\":\"Homestead\",\"offsetgroup\":\"Homestead\",\"orientation\":\"v\",\"showlegend\":true,\"textposition\":\"auto\",\"x\":[1,2,4,7,9,10,11,12,13,16,17,18,19,22,23,24],\"xaxis\":\"x\",\"y\":[2,1,2,1,2,12,9,1,3,3,2,5,3,9,4,3],\"yaxis\":\"y\",\"type\":\"bar\"},{\"alignmentgroup\":\"True\",\"hovertemplate\":\"species_general=Honeysuckle\\u003cbr\\u003eWARD=%{x}\\u003cbr\\u003ecount=%{y}\\u003cextra\\u003e\\u003c\\u002fextra\\u003e\",\"legendgroup\":\"Honeysuckle\",\"marker\":{\"color\":\"#636efa\",\"pattern\":{\"shape\":\"\"}},\"name\":\"Honeysuckle\",\"offsetgroup\":\"Honeysuckle\",\"orientation\":\"v\",\"showlegend\":true,\"textposition\":\"auto\",\"x\":[1,2,3,6,7,8,9,11,13,21],\"xaxis\":\"x\",\"y\":[14,5,6,2,1,20,3,2,1,12],\"yaxis\":\"y\",\"type\":\"bar\"},{\"alignmentgroup\":\"True\",\"hovertemplate\":\"species_general=Hoptree\\u003cbr\\u003eWARD=%{x}\\u003cbr\\u003ecount=%{y}\\u003cextra\\u003e\\u003c\\u002fextra\\u003e\",\"legendgroup\":\"Hoptree\",\"marker\":{\"color\":\"#EF553B\",\"pattern\":{\"shape\":\"\"}},\"name\":\"Hoptree\",\"offsetgroup\":\"Hoptree\",\"orientation\":\"v\",\"showlegend\":true,\"textposition\":\"auto\",\"x\":[10,11,16,19],\"xaxis\":\"x\",\"y\":[3,1,1,10],\"yaxis\":\"y\",\"type\":\"bar\"},{\"alignmentgroup\":\"True\",\"hovertemplate\":\"species_general=Horsechestnut\\u003cbr\\u003eWARD=%{x}\\u003cbr\\u003ecount=%{y}\\u003cextra\\u003e\\u003c\\u002fextra\\u003e\",\"legendgroup\":\"Horsechestnut\",\"marker\":{\"color\":\"#00cc96\",\"pattern\":{\"shape\":\"\"}},\"name\":\"Horsechestnut\",\"offsetgroup\":\"Horsechestnut\",\"orientation\":\"v\",\"showlegend\":true,\"textposition\":\"auto\",\"x\":[1,2,3,4,6,7,8,9,10,11,12,13,14,15,16,17,18,19,20,21,22,23,24],\"xaxis\":\"x\",\"y\":[6,18,10,7,10,12,20,13,9,23,8,18,6,11,10,14,24,4,3,9,29,13,10],\"yaxis\":\"y\",\"type\":\"bar\"},{\"alignmentgroup\":\"True\",\"hovertemplate\":\"species_general=Ironwood\\u003cbr\\u003eWARD=%{x}\\u003cbr\\u003ecount=%{y}\\u003cextra\\u003e\\u003c\\u002fextra\\u003e\",\"legendgroup\":\"Ironwood\",\"marker\":{\"color\":\"#ab63fa\",\"pattern\":{\"shape\":\"\"}},\"name\":\"Ironwood\",\"offsetgroup\":\"Ironwood\",\"orientation\":\"v\",\"showlegend\":true,\"textposition\":\"auto\",\"x\":[1,2,3,4,5,6,7,8,9,10,11,12,13,14,15,16,17,18,19,20,21,22,23,24],\"xaxis\":\"x\",\"y\":[30,47,52,43,59,52,35,66,30,30,15,15,36,16,52,36,52,32,40,12,73,40,44,17],\"yaxis\":\"y\",\"type\":\"bar\"},{\"alignmentgroup\":\"True\",\"hovertemplate\":\"species_general=Juniper\\u003cbr\\u003eWARD=%{x}\\u003cbr\\u003ecount=%{y}\\u003cextra\\u003e\\u003c\\u002fextra\\u003e\",\"legendgroup\":\"Juniper\",\"marker\":{\"color\":\"#FFA15A\",\"pattern\":{\"shape\":\"\"}},\"name\":\"Juniper\",\"offsetgroup\":\"Juniper\",\"orientation\":\"v\",\"showlegend\":true,\"textposition\":\"auto\",\"x\":[1,2,3,4,5,6,7,8,9,10,11,12,13,14,15,16,17,18,19,20,21,22,23,24],\"xaxis\":\"x\",\"y\":[18,9,15,4,9,13,21,27,20,25,11,14,4,16,30,18,10,21,10,16,18,4,8,38],\"yaxis\":\"y\",\"type\":\"bar\"},{\"alignmentgroup\":\"True\",\"hovertemplate\":\"species_general=Katsura\\u003cbr\\u003eWARD=%{x}\\u003cbr\\u003ecount=%{y}\\u003cextra\\u003e\\u003c\\u002fextra\\u003e\",\"legendgroup\":\"Katsura\",\"marker\":{\"color\":\"#19d3f3\",\"pattern\":{\"shape\":\"\"}},\"name\":\"Katsura\",\"offsetgroup\":\"Katsura\",\"orientation\":\"v\",\"showlegend\":true,\"textposition\":\"auto\",\"x\":[1,2,3,4,5,6,7,8,9,10,11,12,13,14,15,16,17,18,19,20,21,22,23,24],\"xaxis\":\"x\",\"y\":[111,121,162,91,10,88,125,215,182,119,55,50,75,15,77,163,71,176,48,11,52,39,140,157],\"yaxis\":\"y\",\"type\":\"bar\"},{\"alignmentgroup\":\"True\",\"hovertemplate\":\"species_general=Larch\\u003cbr\\u003eWARD=%{x}\\u003cbr\\u003ecount=%{y}\\u003cextra\\u003e\\u003c\\u002fextra\\u003e\",\"legendgroup\":\"Larch\",\"marker\":{\"color\":\"#FF6692\",\"pattern\":{\"shape\":\"\"}},\"name\":\"Larch\",\"offsetgroup\":\"Larch\",\"orientation\":\"v\",\"showlegend\":true,\"textposition\":\"auto\",\"x\":[1,2,3,4,5,6,7,8,9,10,11,12,13,14,15,16,17,18,19,20,21,22,23,24],\"xaxis\":\"x\",\"y\":[32,32,145,51,34,89,51,53,55,75,34,20,32,2,24,31,62,122,138,55,157,68,43,73],\"yaxis\":\"y\",\"type\":\"bar\"},{\"alignmentgroup\":\"True\",\"hovertemplate\":\"species_general=Lilac\\u003cbr\\u003eWARD=%{x}\\u003cbr\\u003ecount=%{y}\\u003cextra\\u003e\\u003c\\u002fextra\\u003e\",\"legendgroup\":\"Lilac\",\"marker\":{\"color\":\"#B6E880\",\"pattern\":{\"shape\":\"\"}},\"name\":\"Lilac\",\"offsetgroup\":\"Lilac\",\"orientation\":\"v\",\"showlegend\":true,\"textposition\":\"auto\",\"x\":[1,2,3,4,5,6,7,8,9,10,11,12,13,14,15,16,17,18,19,20,21,22,23,24],\"xaxis\":\"x\",\"y\":[315,259,801,500,49,614,464,502,310,852,219,462,419,466,602,592,616,538,1596,31,233,776,745,841],\"yaxis\":\"y\",\"type\":\"bar\"},{\"alignmentgroup\":\"True\",\"hovertemplate\":\"species_general=Linden\\u003cbr\\u003eWARD=%{x}\\u003cbr\\u003ecount=%{y}\\u003cextra\\u003e\\u003c\\u002fextra\\u003e\",\"legendgroup\":\"Linden\",\"marker\":{\"color\":\"#FF97FF\",\"pattern\":{\"shape\":\"\"}},\"name\":\"Linden\",\"offsetgroup\":\"Linden\",\"orientation\":\"v\",\"showlegend\":true,\"textposition\":\"auto\",\"x\":[1,2,3,4,5,6,7,8,9,10,11,12,13,14,15,16,17,18,19,20,21,22,23,24],\"xaxis\":\"x\",\"y\":[354,193,744,984,40,282,865,921,438,485,176,564,589,350,639,884,484,1543,577,25,201,201,566,1385],\"yaxis\":\"y\",\"type\":\"bar\"},{\"alignmentgroup\":\"True\",\"hovertemplate\":\"species_general=Locust\\u003cbr\\u003eWARD=%{x}\\u003cbr\\u003ecount=%{y}\\u003cextra\\u003e\\u003c\\u002fextra\\u003e\",\"legendgroup\":\"Locust\",\"marker\":{\"color\":\"#FECB52\",\"pattern\":{\"shape\":\"\"}},\"name\":\"Locust\",\"offsetgroup\":\"Locust\",\"orientation\":\"v\",\"showlegend\":true,\"textposition\":\"auto\",\"x\":[1,2,3,4,5,6,7,8,9,10,11,12,13,14,15,16,17,18,19,20,21,22,23,24],\"xaxis\":\"x\",\"y\":[666,599,697,1070,49,780,672,718,443,790,311,830,813,818,872,942,625,946,742,102,446,757,1038,1659],\"yaxis\":\"y\",\"type\":\"bar\"},{\"alignmentgroup\":\"True\",\"hovertemplate\":\"species_general=London\\u003cbr\\u003eWARD=%{x}\\u003cbr\\u003ecount=%{y}\\u003cextra\\u003e\\u003c\\u002fextra\\u003e\",\"legendgroup\":\"London\",\"marker\":{\"color\":\"#636efa\",\"pattern\":{\"shape\":\"\"}},\"name\":\"London\",\"offsetgroup\":\"London\",\"orientation\":\"v\",\"showlegend\":true,\"textposition\":\"auto\",\"x\":[7],\"xaxis\":\"x\",\"y\":[4],\"yaxis\":\"y\",\"type\":\"bar\"},{\"alignmentgroup\":\"True\",\"hovertemplate\":\"species_general=Magnolia\\u003cbr\\u003eWARD=%{x}\\u003cbr\\u003ecount=%{y}\\u003cextra\\u003e\\u003c\\u002fextra\\u003e\",\"legendgroup\":\"Magnolia\",\"marker\":{\"color\":\"#EF553B\",\"pattern\":{\"shape\":\"\"}},\"name\":\"Magnolia\",\"offsetgroup\":\"Magnolia\",\"orientation\":\"v\",\"showlegend\":true,\"textposition\":\"auto\",\"x\":[1,2,3,4,6,7,8,9,10,11,12,13,14,15,16,17,18,19,21,22,23,24],\"xaxis\":\"x\",\"y\":[3,7,2,2,4,9,14,13,7,3,7,6,5,18,4,17,8,4,3,2,7,6],\"yaxis\":\"y\",\"type\":\"bar\"},{\"alignmentgroup\":\"True\",\"hovertemplate\":\"species_general=Maple\\u003cbr\\u003eWARD=%{x}\\u003cbr\\u003ecount=%{y}\\u003cextra\\u003e\\u003c\\u002fextra\\u003e\",\"legendgroup\":\"Maple\",\"marker\":{\"color\":\"#00cc96\",\"pattern\":{\"shape\":\"\"}},\"name\":\"Maple\",\"offsetgroup\":\"Maple\",\"orientation\":\"v\",\"showlegend\":true,\"textposition\":\"auto\",\"x\":[1,2,3,4,5,6,7,8,9,10,11,12,13,14,15,16,17,18,19,20,21,22,23,24],\"xaxis\":\"x\",\"y\":[3266,3321,4982,4440,1705,3404,4769,5361,3407,4931,2512,3748,4902,1996,4514,5137,4626,6224,4497,1479,5646,2898,4882,4814],\"yaxis\":\"y\",\"type\":\"bar\"},{\"alignmentgroup\":\"True\",\"hovertemplate\":\"species_general=Mountain\\u003cbr\\u003eWARD=%{x}\\u003cbr\\u003ecount=%{y}\\u003cextra\\u003e\\u003c\\u002fextra\\u003e\",\"legendgroup\":\"Mountain\",\"marker\":{\"color\":\"#ab63fa\",\"pattern\":{\"shape\":\"\"}},\"name\":\"Mountain\",\"offsetgroup\":\"Mountain\",\"orientation\":\"v\",\"showlegend\":true,\"textposition\":\"auto\",\"x\":[1,2,3,4,5,6,7,8,9,10,11,12,13,14,15,16,17,18,19,20,21,22,23,24],\"xaxis\":\"x\",\"y\":[75,72,150,92,21,63,139,166,90,123,67,132,125,40,117,174,142,179,158,5,99,107,96,177],\"yaxis\":\"y\",\"type\":\"bar\"},{\"alignmentgroup\":\"True\",\"hovertemplate\":\"species_general=Mulberry\\u003cbr\\u003eWARD=%{x}\\u003cbr\\u003ecount=%{y}\\u003cextra\\u003e\\u003c\\u002fextra\\u003e\",\"legendgroup\":\"Mulberry\",\"marker\":{\"color\":\"#FFA15A\",\"pattern\":{\"shape\":\"\"}},\"name\":\"Mulberry\",\"offsetgroup\":\"Mulberry\",\"orientation\":\"v\",\"showlegend\":true,\"textposition\":\"auto\",\"x\":[1,2,3,4,6,7,8,9,10,11,14,15,16,17,18,19,21,22,23,24],\"xaxis\":\"x\",\"y\":[6,6,14,8,13,13,19,32,15,1,6,20,17,16,9,11,13,6,11,16],\"yaxis\":\"y\",\"type\":\"bar\"},{\"alignmentgroup\":\"True\",\"hovertemplate\":\"species_general=Nannyberry\\u003cbr\\u003eWARD=%{x}\\u003cbr\\u003ecount=%{y}\\u003cextra\\u003e\\u003c\\u002fextra\\u003e\",\"legendgroup\":\"Nannyberry\",\"marker\":{\"color\":\"#19d3f3\",\"pattern\":{\"shape\":\"\"}},\"name\":\"Nannyberry\",\"offsetgroup\":\"Nannyberry\",\"orientation\":\"v\",\"showlegend\":true,\"textposition\":\"auto\",\"x\":[1,2,3,4,5,6,7,8,9,10,11,12,13,14,15,16,17,18,19,20,21,22,23,24],\"xaxis\":\"x\",\"y\":[10,28,27,20,4,15,17,38,18,29,3,9,17,1,17,30,8,6,35,11,4,28,18,19],\"yaxis\":\"y\",\"type\":\"bar\"},{\"alignmentgroup\":\"True\",\"hovertemplate\":\"species_general=Ninebark\\u003cbr\\u003eWARD=%{x}\\u003cbr\\u003ecount=%{y}\\u003cextra\\u003e\\u003c\\u002fextra\\u003e\",\"legendgroup\":\"Ninebark\",\"marker\":{\"color\":\"#FF6692\",\"pattern\":{\"shape\":\"\"}},\"name\":\"Ninebark\",\"offsetgroup\":\"Ninebark\",\"orientation\":\"v\",\"showlegend\":true,\"textposition\":\"auto\",\"x\":[4,6],\"xaxis\":\"x\",\"y\":[1,1],\"yaxis\":\"y\",\"type\":\"bar\"},{\"alignmentgroup\":\"True\",\"hovertemplate\":\"species_general=Oak\\u003cbr\\u003eWARD=%{x}\\u003cbr\\u003ecount=%{y}\\u003cextra\\u003e\\u003c\\u002fextra\\u003e\",\"legendgroup\":\"Oak\",\"marker\":{\"color\":\"#B6E880\",\"pattern\":{\"shape\":\"\"}},\"name\":\"Oak\",\"offsetgroup\":\"Oak\",\"orientation\":\"v\",\"showlegend\":true,\"textposition\":\"auto\",\"x\":[1,2,3,4,5,6,7,8,9,10,11,12,13,14,15,16,17,18,19,20,21,22,23,24],\"xaxis\":\"x\",\"y\":[621,617,1307,961,1138,918,610,805,439,414,384,473,476,211,468,640,534,935,973,255,1253,936,761,1438],\"yaxis\":\"y\",\"type\":\"bar\"},{\"alignmentgroup\":\"True\",\"hovertemplate\":\"species_general=Olive\\u003cbr\\u003eWARD=%{x}\\u003cbr\\u003ecount=%{y}\\u003cextra\\u003e\\u003c\\u002fextra\\u003e\",\"legendgroup\":\"Olive\",\"marker\":{\"color\":\"#FF97FF\",\"pattern\":{\"shape\":\"\"}},\"name\":\"Olive\",\"offsetgroup\":\"Olive\",\"orientation\":\"v\",\"showlegend\":true,\"textposition\":\"auto\",\"x\":[1,2,3,4,5,6,7,8,9,10,11,12,13,14,15,16,17,18,19,21,22,23,24],\"xaxis\":\"x\",\"y\":[10,9,2,18,3,6,21,7,7,24,12,7,12,11,20,13,17,12,2,12,1,17,5],\"yaxis\":\"y\",\"type\":\"bar\"},{\"alignmentgroup\":\"True\",\"hovertemplate\":\"species_general=Ornamental\\u003cbr\\u003eWARD=%{x}\\u003cbr\\u003ecount=%{y}\\u003cextra\\u003e\\u003c\\u002fextra\\u003e\",\"legendgroup\":\"Ornamental\",\"marker\":{\"color\":\"#FECB52\",\"pattern\":{\"shape\":\"\"}},\"name\":\"Ornamental\",\"offsetgroup\":\"Ornamental\",\"orientation\":\"v\",\"showlegend\":true,\"textposition\":\"auto\",\"x\":[1,2,3,4,5,6,7,8,9,10,11,12,13,14,15,16,17,18,19,20,21,22,23,24],\"xaxis\":\"x\",\"y\":[40,37,126,56,3,94,62,49,40,79,8,36,28,24,64,53,24,40,143,16,30,93,64,105],\"yaxis\":\"y\",\"type\":\"bar\"},{\"alignmentgroup\":\"True\",\"hovertemplate\":\"species_general=Other\\u003cbr\\u003eWARD=%{x}\\u003cbr\\u003ecount=%{y}\\u003cextra\\u003e\\u003c\\u002fextra\\u003e\",\"legendgroup\":\"Other\",\"marker\":{\"color\":\"#636efa\",\"pattern\":{\"shape\":\"\"}},\"name\":\"Other\",\"offsetgroup\":\"Other\",\"orientation\":\"v\",\"showlegend\":true,\"textposition\":\"auto\",\"x\":[1,2,3,4,5,6,7,8,9,10,11,12,13,14,15,16,17,18,19,20,21,22,23,24],\"xaxis\":\"x\",\"y\":[16,42,6,65,23,15,70,20,7,29,124,34,45,5,28,16,9,13,17,80,262,8,11,25],\"yaxis\":\"y\",\"type\":\"bar\"},{\"alignmentgroup\":\"True\",\"hovertemplate\":\"species_general=Pear\\u003cbr\\u003eWARD=%{x}\\u003cbr\\u003ecount=%{y}\\u003cextra\\u003e\\u003c\\u002fextra\\u003e\",\"legendgroup\":\"Pear\",\"marker\":{\"color\":\"#EF553B\",\"pattern\":{\"shape\":\"\"}},\"name\":\"Pear\",\"offsetgroup\":\"Pear\",\"orientation\":\"v\",\"showlegend\":true,\"textposition\":\"auto\",\"x\":[1,2,3,4,5,6,7,8,9,10,11,12,13,14,15,16,17,18,19,20,21,22,23,24],\"xaxis\":\"x\",\"y\":[21,16,33,21,2,9,6,8,2,20,1,6,4,12,18,3,11,8,104,1,17,6,13,2],\"yaxis\":\"y\",\"type\":\"bar\"},{\"alignmentgroup\":\"True\",\"hovertemplate\":\"species_general=Pine\\u003cbr\\u003eWARD=%{x}\\u003cbr\\u003ecount=%{y}\\u003cextra\\u003e\\u003c\\u002fextra\\u003e\",\"legendgroup\":\"Pine\",\"marker\":{\"color\":\"#00cc96\",\"pattern\":{\"shape\":\"\"}},\"name\":\"Pine\",\"offsetgroup\":\"Pine\",\"orientation\":\"v\",\"showlegend\":true,\"textposition\":\"auto\",\"x\":[1,2,3,4,5,6,7,8,9,10,11,12,13,14,15,16,17,18,19,20,21,22,23,24],\"xaxis\":\"x\",\"y\":[864,820,660,1003,863,421,916,688,826,709,553,262,519,55,353,540,297,628,799,795,1093,357,1110,861],\"yaxis\":\"y\",\"type\":\"bar\"},{\"alignmentgroup\":\"True\",\"hovertemplate\":\"species_general=Poplar\\u003cbr\\u003eWARD=%{x}\\u003cbr\\u003ecount=%{y}\\u003cextra\\u003e\\u003c\\u002fextra\\u003e\",\"legendgroup\":\"Poplar\",\"marker\":{\"color\":\"#ab63fa\",\"pattern\":{\"shape\":\"\"}},\"name\":\"Poplar\",\"offsetgroup\":\"Poplar\",\"orientation\":\"v\",\"showlegend\":true,\"textposition\":\"auto\",\"x\":[1,2,3,4,5,6,7,8,9,10,11,12,13,14,15,16,17,18,19,20,21,22,23,24],\"xaxis\":\"x\",\"y\":[22,8,33,22,400,107,19,19,9,51,28,11,17,3,15,15,9,20,101,142,367,55,15,17],\"yaxis\":\"y\",\"type\":\"bar\"},{\"alignmentgroup\":\"True\",\"hovertemplate\":\"species_general=Redbud\\u003cbr\\u003eWARD=%{x}\\u003cbr\\u003ecount=%{y}\\u003cextra\\u003e\\u003c\\u002fextra\\u003e\",\"legendgroup\":\"Redbud\",\"marker\":{\"color\":\"#FFA15A\",\"pattern\":{\"shape\":\"\"}},\"name\":\"Redbud\",\"offsetgroup\":\"Redbud\",\"orientation\":\"v\",\"showlegend\":true,\"textposition\":\"auto\",\"x\":[1,2,3,4,6,7,8,9,10,11,12,14,15,16,17,18,19,21,23,24],\"xaxis\":\"x\",\"y\":[4,4,15,5,1,6,1,11,13,2,5,4,8,4,15,6,21,8,6,1],\"yaxis\":\"y\",\"type\":\"bar\"},{\"alignmentgroup\":\"True\",\"hovertemplate\":\"species_general=Serviceberry\\u003cbr\\u003eWARD=%{x}\\u003cbr\\u003ecount=%{y}\\u003cextra\\u003e\\u003c\\u002fextra\\u003e\",\"legendgroup\":\"Serviceberry\",\"marker\":{\"color\":\"#19d3f3\",\"pattern\":{\"shape\":\"\"}},\"name\":\"Serviceberry\",\"offsetgroup\":\"Serviceberry\",\"orientation\":\"v\",\"showlegend\":true,\"textposition\":\"auto\",\"x\":[1,2,3,4,5,6,7,8,9,10,11,12,13,14,15,16,17,18,19,20,21,22,23,24],\"xaxis\":\"x\",\"y\":[299,210,771,412,30,471,295,340,215,361,127,175,197,164,357,388,386,334,1324,90,209,544,461,472],\"yaxis\":\"y\",\"type\":\"bar\"},{\"alignmentgroup\":\"True\",\"hovertemplate\":\"species_general=Spruce\\u003cbr\\u003eWARD=%{x}\\u003cbr\\u003ecount=%{y}\\u003cextra\\u003e\\u003c\\u002fextra\\u003e\",\"legendgroup\":\"Spruce\",\"marker\":{\"color\":\"#FF6692\",\"pattern\":{\"shape\":\"\"}},\"name\":\"Spruce\",\"offsetgroup\":\"Spruce\",\"orientation\":\"v\",\"showlegend\":true,\"textposition\":\"auto\",\"x\":[1,2,3,4,5,6,7,8,9,10,11,12,13,14,15,16,17,18,19,20,21,22,23,24],\"xaxis\":\"x\",\"y\":[1644,1559,1750,2325,1162,1477,1181,2075,1852,2197,1243,617,1074,161,917,1486,728,1131,1505,766,2511,994,2469,2422],\"yaxis\":\"y\",\"type\":\"bar\"},{\"alignmentgroup\":\"True\",\"hovertemplate\":\"species_general=Staghorn\\u003cbr\\u003eWARD=%{x}\\u003cbr\\u003ecount=%{y}\\u003cextra\\u003e\\u003c\\u002fextra\\u003e\",\"legendgroup\":\"Staghorn\",\"marker\":{\"color\":\"#B6E880\",\"pattern\":{\"shape\":\"\"}},\"name\":\"Staghorn\",\"offsetgroup\":\"Staghorn\",\"orientation\":\"v\",\"showlegend\":true,\"textposition\":\"auto\",\"x\":[1,2,3,4,5,6,7,8,9,10,11,12,13,14,15,16,17,18,19,21,22,23,24],\"xaxis\":\"x\",\"y\":[4,17,69,27,1,10,7,2,31,15,2,5,3,1,14,7,9,1,8,6,5,21,14],\"yaxis\":\"y\",\"type\":\"bar\"},{\"alignmentgroup\":\"True\",\"hovertemplate\":\"species_general=Swedish\\u003cbr\\u003eWARD=%{x}\\u003cbr\\u003ecount=%{y}\\u003cextra\\u003e\\u003c\\u002fextra\\u003e\",\"legendgroup\":\"Swedish\",\"marker\":{\"color\":\"#FF97FF\",\"pattern\":{\"shape\":\"\"}},\"name\":\"Swedish\",\"offsetgroup\":\"Swedish\",\"orientation\":\"v\",\"showlegend\":true,\"textposition\":\"auto\",\"x\":[3,7,10,14,15,17,18,23],\"xaxis\":\"x\",\"y\":[1,1,2,5,1,4,24,6],\"yaxis\":\"y\",\"type\":\"bar\"},{\"alignmentgroup\":\"True\",\"hovertemplate\":\"species_general=Sycamore\\u003cbr\\u003eWARD=%{x}\\u003cbr\\u003ecount=%{y}\\u003cextra\\u003e\\u003c\\u002fextra\\u003e\",\"legendgroup\":\"Sycamore\",\"marker\":{\"color\":\"#FECB52\",\"pattern\":{\"shape\":\"\"}},\"name\":\"Sycamore\",\"offsetgroup\":\"Sycamore\",\"orientation\":\"v\",\"showlegend\":true,\"textposition\":\"auto\",\"x\":[1,7,8,16,17],\"xaxis\":\"x\",\"y\":[1,2,1,2,2],\"yaxis\":\"y\",\"type\":\"bar\"},{\"alignmentgroup\":\"True\",\"hovertemplate\":\"species_general=Thornless\\u003cbr\\u003eWARD=%{x}\\u003cbr\\u003ecount=%{y}\\u003cextra\\u003e\\u003c\\u002fextra\\u003e\",\"legendgroup\":\"Thornless\",\"marker\":{\"color\":\"#636efa\",\"pattern\":{\"shape\":\"\"}},\"name\":\"Thornless\",\"offsetgroup\":\"Thornless\",\"orientation\":\"v\",\"showlegend\":true,\"textposition\":\"auto\",\"x\":[1,2,3,4,5,6,7,8,9,10,11,12,13,14,15,16,17,18,19,20,21,22,23,24],\"xaxis\":\"x\",\"y\":[14,26,20,15,1,19,15,11,8,16,8,11,2,4,2,12,6,1,60,9,31,11,14,20],\"yaxis\":\"y\",\"type\":\"bar\"},{\"alignmentgroup\":\"True\",\"hovertemplate\":\"species_general=Tulip-tree\\u003cbr\\u003eWARD=%{x}\\u003cbr\\u003ecount=%{y}\\u003cextra\\u003e\\u003c\\u002fextra\\u003e\",\"legendgroup\":\"Tulip-tree\",\"marker\":{\"color\":\"#EF553B\",\"pattern\":{\"shape\":\"\"}},\"name\":\"Tulip-tree\",\"offsetgroup\":\"Tulip-tree\",\"orientation\":\"v\",\"showlegend\":true,\"textposition\":\"auto\",\"x\":[5,6,8,11,14,15,18,19,20],\"xaxis\":\"x\",\"y\":[1,1,1,2,1,1,1,2,2],\"yaxis\":\"y\",\"type\":\"bar\"},{\"alignmentgroup\":\"True\",\"hovertemplate\":\"species_general=Unknown\\u003cbr\\u003eWARD=%{x}\\u003cbr\\u003ecount=%{y}\\u003cextra\\u003e\\u003c\\u002fextra\\u003e\",\"legendgroup\":\"Unknown\",\"marker\":{\"color\":\"#00cc96\",\"pattern\":{\"shape\":\"\"}},\"name\":\"Unknown\",\"offsetgroup\":\"Unknown\",\"orientation\":\"v\",\"showlegend\":true,\"textposition\":\"auto\",\"x\":[1,2,3,4,5,6,7,8,9,10,11,12,13,14,15,16,17,18,19,20,21,22,23,24],\"xaxis\":\"x\",\"y\":[59,18,11,29,49,18,12,9,3,8,22,12,7,3,17,6,6,9,24,19,79,9,15,4],\"yaxis\":\"y\",\"type\":\"bar\"},{\"alignmentgroup\":\"True\",\"hovertemplate\":\"species_general=Various\\u003cbr\\u003eWARD=%{x}\\u003cbr\\u003ecount=%{y}\\u003cextra\\u003e\\u003c\\u002fextra\\u003e\",\"legendgroup\":\"Various\",\"marker\":{\"color\":\"#ab63fa\",\"pattern\":{\"shape\":\"\"}},\"name\":\"Various\",\"offsetgroup\":\"Various\",\"orientation\":\"v\",\"showlegend\":true,\"textposition\":\"auto\",\"x\":[1,2,4,6,7,8,10,12,13,15,17,20,21,23,24],\"xaxis\":\"x\",\"y\":[24,3,26,16,1,4,26,13,149,30,8,4,12,3,5],\"yaxis\":\"y\",\"type\":\"bar\"},{\"alignmentgroup\":\"True\",\"hovertemplate\":\"species_general=Walnut\\u003cbr\\u003eWARD=%{x}\\u003cbr\\u003ecount=%{y}\\u003cextra\\u003e\\u003c\\u002fextra\\u003e\",\"legendgroup\":\"Walnut\",\"marker\":{\"color\":\"#FFA15A\",\"pattern\":{\"shape\":\"\"}},\"name\":\"Walnut\",\"offsetgroup\":\"Walnut\",\"orientation\":\"v\",\"showlegend\":true,\"textposition\":\"auto\",\"x\":[1,2,3,4,5,6,7,8,9,10,11,12,13,14,15,16,17,18,19,20,21,22,23,24],\"xaxis\":\"x\",\"y\":[17,19,30,18,32,23,23,24,35,2,7,4,18,2,23,61,38,18,19,19,127,22,31,19],\"yaxis\":\"y\",\"type\":\"bar\"},{\"alignmentgroup\":\"True\",\"hovertemplate\":\"species_general=Willow\\u003cbr\\u003eWARD=%{x}\\u003cbr\\u003ecount=%{y}\\u003cextra\\u003e\\u003c\\u002fextra\\u003e\",\"legendgroup\":\"Willow\",\"marker\":{\"color\":\"#19d3f3\",\"pattern\":{\"shape\":\"\"}},\"name\":\"Willow\",\"offsetgroup\":\"Willow\",\"orientation\":\"v\",\"showlegend\":true,\"textposition\":\"auto\",\"x\":[1,2,3,4,5,6,7,8,9,10,11,12,13,15,16,17,18,19,20,21,22,23,24],\"xaxis\":\"x\",\"y\":[77,34,32,41,174,35,91,26,23,62,14,31,20,22,52,53,25,124,252,279,18,49,28],\"yaxis\":\"y\",\"type\":\"bar\"},{\"alignmentgroup\":\"True\",\"hovertemplate\":\"species_general=Yellowwood\\u003cbr\\u003eWARD=%{x}\\u003cbr\\u003ecount=%{y}\\u003cextra\\u003e\\u003c\\u002fextra\\u003e\",\"legendgroup\":\"Yellowwood\",\"marker\":{\"color\":\"#FF6692\",\"pattern\":{\"shape\":\"\"}},\"name\":\"Yellowwood\",\"offsetgroup\":\"Yellowwood\",\"orientation\":\"v\",\"showlegend\":true,\"textposition\":\"auto\",\"x\":[1,2,3,4,6,7,8,9,10,11,12,13,16,17,18,19,21,22,23,24],\"xaxis\":\"x\",\"y\":[23,80,9,2,15,6,6,7,31,14,7,10,25,1,16,19,3,32,4,6],\"yaxis\":\"y\",\"type\":\"bar\"},{\"alignmentgroup\":\"True\",\"hovertemplate\":\"species_general=Yew\\u003cbr\\u003eWARD=%{x}\\u003cbr\\u003ecount=%{y}\\u003cextra\\u003e\\u003c\\u002fextra\\u003e\",\"legendgroup\":\"Yew\",\"marker\":{\"color\":\"#B6E880\",\"pattern\":{\"shape\":\"\"}},\"name\":\"Yew\",\"offsetgroup\":\"Yew\",\"orientation\":\"v\",\"showlegend\":true,\"textposition\":\"auto\",\"x\":[2,3,4,6,8,12,13,14,15,16,17,18,21,23,24],\"xaxis\":\"x\",\"y\":[3,3,2,1,4,5,19,1,5,3,3,8,2,2,1],\"yaxis\":\"y\",\"type\":\"bar\"}],                        {\"template\":{\"data\":{\"histogram2dcontour\":[{\"type\":\"histogram2dcontour\",\"colorbar\":{\"outlinewidth\":0,\"ticks\":\"\"},\"colorscale\":[[0.0,\"#0d0887\"],[0.1111111111111111,\"#46039f\"],[0.2222222222222222,\"#7201a8\"],[0.3333333333333333,\"#9c179e\"],[0.4444444444444444,\"#bd3786\"],[0.5555555555555556,\"#d8576b\"],[0.6666666666666666,\"#ed7953\"],[0.7777777777777778,\"#fb9f3a\"],[0.8888888888888888,\"#fdca26\"],[1.0,\"#f0f921\"]]}],\"choropleth\":[{\"type\":\"choropleth\",\"colorbar\":{\"outlinewidth\":0,\"ticks\":\"\"}}],\"histogram2d\":[{\"type\":\"histogram2d\",\"colorbar\":{\"outlinewidth\":0,\"ticks\":\"\"},\"colorscale\":[[0.0,\"#0d0887\"],[0.1111111111111111,\"#46039f\"],[0.2222222222222222,\"#7201a8\"],[0.3333333333333333,\"#9c179e\"],[0.4444444444444444,\"#bd3786\"],[0.5555555555555556,\"#d8576b\"],[0.6666666666666666,\"#ed7953\"],[0.7777777777777778,\"#fb9f3a\"],[0.8888888888888888,\"#fdca26\"],[1.0,\"#f0f921\"]]}],\"heatmap\":[{\"type\":\"heatmap\",\"colorbar\":{\"outlinewidth\":0,\"ticks\":\"\"},\"colorscale\":[[0.0,\"#0d0887\"],[0.1111111111111111,\"#46039f\"],[0.2222222222222222,\"#7201a8\"],[0.3333333333333333,\"#9c179e\"],[0.4444444444444444,\"#bd3786\"],[0.5555555555555556,\"#d8576b\"],[0.6666666666666666,\"#ed7953\"],[0.7777777777777778,\"#fb9f3a\"],[0.8888888888888888,\"#fdca26\"],[1.0,\"#f0f921\"]]}],\"heatmapgl\":[{\"type\":\"heatmapgl\",\"colorbar\":{\"outlinewidth\":0,\"ticks\":\"\"},\"colorscale\":[[0.0,\"#0d0887\"],[0.1111111111111111,\"#46039f\"],[0.2222222222222222,\"#7201a8\"],[0.3333333333333333,\"#9c179e\"],[0.4444444444444444,\"#bd3786\"],[0.5555555555555556,\"#d8576b\"],[0.6666666666666666,\"#ed7953\"],[0.7777777777777778,\"#fb9f3a\"],[0.8888888888888888,\"#fdca26\"],[1.0,\"#f0f921\"]]}],\"contourcarpet\":[{\"type\":\"contourcarpet\",\"colorbar\":{\"outlinewidth\":0,\"ticks\":\"\"}}],\"contour\":[{\"type\":\"contour\",\"colorbar\":{\"outlinewidth\":0,\"ticks\":\"\"},\"colorscale\":[[0.0,\"#0d0887\"],[0.1111111111111111,\"#46039f\"],[0.2222222222222222,\"#7201a8\"],[0.3333333333333333,\"#9c179e\"],[0.4444444444444444,\"#bd3786\"],[0.5555555555555556,\"#d8576b\"],[0.6666666666666666,\"#ed7953\"],[0.7777777777777778,\"#fb9f3a\"],[0.8888888888888888,\"#fdca26\"],[1.0,\"#f0f921\"]]}],\"surface\":[{\"type\":\"surface\",\"colorbar\":{\"outlinewidth\":0,\"ticks\":\"\"},\"colorscale\":[[0.0,\"#0d0887\"],[0.1111111111111111,\"#46039f\"],[0.2222222222222222,\"#7201a8\"],[0.3333333333333333,\"#9c179e\"],[0.4444444444444444,\"#bd3786\"],[0.5555555555555556,\"#d8576b\"],[0.6666666666666666,\"#ed7953\"],[0.7777777777777778,\"#fb9f3a\"],[0.8888888888888888,\"#fdca26\"],[1.0,\"#f0f921\"]]}],\"mesh3d\":[{\"type\":\"mesh3d\",\"colorbar\":{\"outlinewidth\":0,\"ticks\":\"\"}}],\"scatter\":[{\"fillpattern\":{\"fillmode\":\"overlay\",\"size\":10,\"solidity\":0.2},\"type\":\"scatter\"}],\"parcoords\":[{\"type\":\"parcoords\",\"line\":{\"colorbar\":{\"outlinewidth\":0,\"ticks\":\"\"}}}],\"scatterpolargl\":[{\"type\":\"scatterpolargl\",\"marker\":{\"colorbar\":{\"outlinewidth\":0,\"ticks\":\"\"}}}],\"bar\":[{\"error_x\":{\"color\":\"#2a3f5f\"},\"error_y\":{\"color\":\"#2a3f5f\"},\"marker\":{\"line\":{\"color\":\"#E5ECF6\",\"width\":0.5},\"pattern\":{\"fillmode\":\"overlay\",\"size\":10,\"solidity\":0.2}},\"type\":\"bar\"}],\"scattergeo\":[{\"type\":\"scattergeo\",\"marker\":{\"colorbar\":{\"outlinewidth\":0,\"ticks\":\"\"}}}],\"scatterpolar\":[{\"type\":\"scatterpolar\",\"marker\":{\"colorbar\":{\"outlinewidth\":0,\"ticks\":\"\"}}}],\"histogram\":[{\"marker\":{\"pattern\":{\"fillmode\":\"overlay\",\"size\":10,\"solidity\":0.2}},\"type\":\"histogram\"}],\"scattergl\":[{\"type\":\"scattergl\",\"marker\":{\"colorbar\":{\"outlinewidth\":0,\"ticks\":\"\"}}}],\"scatter3d\":[{\"type\":\"scatter3d\",\"line\":{\"colorbar\":{\"outlinewidth\":0,\"ticks\":\"\"}},\"marker\":{\"colorbar\":{\"outlinewidth\":0,\"ticks\":\"\"}}}],\"scattermapbox\":[{\"type\":\"scattermapbox\",\"marker\":{\"colorbar\":{\"outlinewidth\":0,\"ticks\":\"\"}}}],\"scatterternary\":[{\"type\":\"scatterternary\",\"marker\":{\"colorbar\":{\"outlinewidth\":0,\"ticks\":\"\"}}}],\"scattercarpet\":[{\"type\":\"scattercarpet\",\"marker\":{\"colorbar\":{\"outlinewidth\":0,\"ticks\":\"\"}}}],\"carpet\":[{\"aaxis\":{\"endlinecolor\":\"#2a3f5f\",\"gridcolor\":\"white\",\"linecolor\":\"white\",\"minorgridcolor\":\"white\",\"startlinecolor\":\"#2a3f5f\"},\"baxis\":{\"endlinecolor\":\"#2a3f5f\",\"gridcolor\":\"white\",\"linecolor\":\"white\",\"minorgridcolor\":\"white\",\"startlinecolor\":\"#2a3f5f\"},\"type\":\"carpet\"}],\"table\":[{\"cells\":{\"fill\":{\"color\":\"#EBF0F8\"},\"line\":{\"color\":\"white\"}},\"header\":{\"fill\":{\"color\":\"#C8D4E3\"},\"line\":{\"color\":\"white\"}},\"type\":\"table\"}],\"barpolar\":[{\"marker\":{\"line\":{\"color\":\"#E5ECF6\",\"width\":0.5},\"pattern\":{\"fillmode\":\"overlay\",\"size\":10,\"solidity\":0.2}},\"type\":\"barpolar\"}],\"pie\":[{\"automargin\":true,\"type\":\"pie\"}]},\"layout\":{\"autotypenumbers\":\"strict\",\"colorway\":[\"#636efa\",\"#EF553B\",\"#00cc96\",\"#ab63fa\",\"#FFA15A\",\"#19d3f3\",\"#FF6692\",\"#B6E880\",\"#FF97FF\",\"#FECB52\"],\"font\":{\"color\":\"#2a3f5f\"},\"hovermode\":\"closest\",\"hoverlabel\":{\"align\":\"left\"},\"paper_bgcolor\":\"white\",\"plot_bgcolor\":\"#E5ECF6\",\"polar\":{\"bgcolor\":\"#E5ECF6\",\"angularaxis\":{\"gridcolor\":\"white\",\"linecolor\":\"white\",\"ticks\":\"\"},\"radialaxis\":{\"gridcolor\":\"white\",\"linecolor\":\"white\",\"ticks\":\"\"}},\"ternary\":{\"bgcolor\":\"#E5ECF6\",\"aaxis\":{\"gridcolor\":\"white\",\"linecolor\":\"white\",\"ticks\":\"\"},\"baxis\":{\"gridcolor\":\"white\",\"linecolor\":\"white\",\"ticks\":\"\"},\"caxis\":{\"gridcolor\":\"white\",\"linecolor\":\"white\",\"ticks\":\"\"}},\"coloraxis\":{\"colorbar\":{\"outlinewidth\":0,\"ticks\":\"\"}},\"colorscale\":{\"sequential\":[[0.0,\"#0d0887\"],[0.1111111111111111,\"#46039f\"],[0.2222222222222222,\"#7201a8\"],[0.3333333333333333,\"#9c179e\"],[0.4444444444444444,\"#bd3786\"],[0.5555555555555556,\"#d8576b\"],[0.6666666666666666,\"#ed7953\"],[0.7777777777777778,\"#fb9f3a\"],[0.8888888888888888,\"#fdca26\"],[1.0,\"#f0f921\"]],\"sequentialminus\":[[0.0,\"#0d0887\"],[0.1111111111111111,\"#46039f\"],[0.2222222222222222,\"#7201a8\"],[0.3333333333333333,\"#9c179e\"],[0.4444444444444444,\"#bd3786\"],[0.5555555555555556,\"#d8576b\"],[0.6666666666666666,\"#ed7953\"],[0.7777777777777778,\"#fb9f3a\"],[0.8888888888888888,\"#fdca26\"],[1.0,\"#f0f921\"]],\"diverging\":[[0,\"#8e0152\"],[0.1,\"#c51b7d\"],[0.2,\"#de77ae\"],[0.3,\"#f1b6da\"],[0.4,\"#fde0ef\"],[0.5,\"#f7f7f7\"],[0.6,\"#e6f5d0\"],[0.7,\"#b8e186\"],[0.8,\"#7fbc41\"],[0.9,\"#4d9221\"],[1,\"#276419\"]]},\"xaxis\":{\"gridcolor\":\"white\",\"linecolor\":\"white\",\"ticks\":\"\",\"title\":{\"standoff\":15},\"zerolinecolor\":\"white\",\"automargin\":true,\"zerolinewidth\":2},\"yaxis\":{\"gridcolor\":\"white\",\"linecolor\":\"white\",\"ticks\":\"\",\"title\":{\"standoff\":15},\"zerolinecolor\":\"white\",\"automargin\":true,\"zerolinewidth\":2},\"scene\":{\"xaxis\":{\"backgroundcolor\":\"#E5ECF6\",\"gridcolor\":\"white\",\"linecolor\":\"white\",\"showbackground\":true,\"ticks\":\"\",\"zerolinecolor\":\"white\",\"gridwidth\":2},\"yaxis\":{\"backgroundcolor\":\"#E5ECF6\",\"gridcolor\":\"white\",\"linecolor\":\"white\",\"showbackground\":true,\"ticks\":\"\",\"zerolinecolor\":\"white\",\"gridwidth\":2},\"zaxis\":{\"backgroundcolor\":\"#E5ECF6\",\"gridcolor\":\"white\",\"linecolor\":\"white\",\"showbackground\":true,\"ticks\":\"\",\"zerolinecolor\":\"white\",\"gridwidth\":2}},\"shapedefaults\":{\"line\":{\"color\":\"#2a3f5f\"}},\"annotationdefaults\":{\"arrowcolor\":\"#2a3f5f\",\"arrowhead\":0,\"arrowwidth\":1},\"geo\":{\"bgcolor\":\"white\",\"landcolor\":\"#E5ECF6\",\"subunitcolor\":\"white\",\"showland\":true,\"showlakes\":true,\"lakecolor\":\"white\"},\"title\":{\"x\":0.05},\"mapbox\":{\"style\":\"light\"}}},\"xaxis\":{\"anchor\":\"y\",\"domain\":[0.0,1.0],\"title\":{\"text\":\"WARD\"}},\"yaxis\":{\"anchor\":\"x\",\"domain\":[0.0,1.0],\"title\":{\"text\":\"count\"}},\"legend\":{\"title\":{\"text\":\"species_general\"},\"tracegroupgap\":0},\"title\":{\"text\":\"Species by Ward\"},\"barmode\":\"relative\"},                        {\"responsive\": true}                    ).then(function(){\n",
       "                            \n",
       "var gd = document.getElementById('9e27e4c1-c129-4cb2-b02e-f11211cf704f');\n",
       "var x = new MutationObserver(function (mutations, observer) {{\n",
       "        var display = window.getComputedStyle(gd).display;\n",
       "        if (!display || display === 'none') {{\n",
       "            console.log([gd, 'removed!']);\n",
       "            Plotly.purge(gd);\n",
       "            observer.disconnect();\n",
       "        }}\n",
       "}});\n",
       "\n",
       "// Listen for the removal of the full notebook cells\n",
       "var notebookContainer = gd.closest('#notebook-container');\n",
       "if (notebookContainer) {{\n",
       "    x.observe(notebookContainer, {childList: true});\n",
       "}}\n",
       "\n",
       "// Listen for the clearing of the current output cell\n",
       "var outputEl = gd.closest('.output');\n",
       "if (outputEl) {{\n",
       "    x.observe(outputEl, {childList: true});\n",
       "}}\n",
       "\n",
       "                        })                };                });            </script>        </div>"
      ]
     },
     "metadata": {},
     "output_type": "display_data"
    }
   ],
   "source": [
    "\n",
    "species_ward_count = pd.DataFrame({'count' : trees.groupby([\"species_general\", \"WARD\"])[\"species_general\"].count()}).reset_index()\n",
    "species_ward_count\n",
    "\n",
    "fig = px.bar(species_ward_count, x=\"WARD\", y=\"count\", color=\"species_general\", title=\"Species by Ward\")\n",
    "fig.show()"
   ]
  }
 ],
 "metadata": {
  "kernelspec": {
   "display_name": "data-projects-tPUdKRYy-py3.12",
   "language": "python",
   "name": "python3"
  },
  "language_info": {
   "codemirror_mode": {
    "name": "ipython",
    "version": 3
   },
   "file_extension": ".py",
   "mimetype": "text/x-python",
   "name": "python",
   "nbconvert_exporter": "python",
   "pygments_lexer": "ipython3",
   "version": "3.12.9"
  }
 },
 "nbformat": 4,
 "nbformat_minor": 2
}
