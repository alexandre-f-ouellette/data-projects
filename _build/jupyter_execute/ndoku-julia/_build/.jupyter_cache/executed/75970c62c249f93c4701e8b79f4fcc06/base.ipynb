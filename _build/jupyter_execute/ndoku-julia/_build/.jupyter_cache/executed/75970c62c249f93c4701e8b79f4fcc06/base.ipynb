{
 "cells": [
  {
   "cell_type": "code",
   "execution_count": 1,
   "metadata": {
    "tags": [
     "hide-input"
    ]
   },
   "outputs": [
    {
     "name": "stderr",
     "output_type": "stream",
     "text": [
      "\u001b[32m\u001b[1m  Activating\u001b[22m\u001b[39m new project at `/mnt/raid/dev/data-projects/ndoku-julia/_build/.jupyter_cache/executed/75970c62c249f93c4701e8b79f4fcc06/ndoku-julia`\n"
     ]
    },
    {
     "ename": "LoadError",
     "evalue": "ArgumentError: Package Combinatorics not found in current path.\n- Run `import Pkg; Pkg.add(\"Combinatorics\")` to install the Combinatorics package.",
     "output_type": "error",
     "traceback": [
      "ArgumentError: Package Combinatorics not found in current path.\n- Run `import Pkg; Pkg.add(\"Combinatorics\")` to install the Combinatorics package.",
      "",
      "Stacktrace:",
      " [1] macro expansion",
      "   @ ./loading.jl:2296 [inlined]",
      " [2] macro expansion",
      "   @ ./lock.jl:273 [inlined]",
      " [3] __require(into::Module, mod::Symbol)",
      "   @ Base ./loading.jl:2271",
      " [4] #invoke_in_world#3",
      "   @ ./essentials.jl:1089 [inlined]",
      " [5] invoke_in_world",
      "   @ ./essentials.jl:1086 [inlined]",
      " [6] require(into::Module, mod::Symbol)",
      "   @ Base ./loading.jl:2260"
     ]
    }
   ],
   "source": [
    "import Pkg;\n",
    "Pkg.activate(\"ndoku-julia/\")\n",
    "\n",
    "using Combinatorics"
   ]
  },
  {
   "cell_type": "code",
   "execution_count": 2,
   "metadata": {
    "tags": [
     "hide-input"
    ]
   },
   "outputs": [
    {
     "data": {
      "text/plain": [
       "24×24 Matrix{Bool}:\n",
       " 0  0  0  0  0  0  0  1  0  1  1  0  0  1  0  0  1  1  1  0  0  0  1  1\n",
       " 0  0  0  0  0  0  1  0  1  0  0  1  1  0  0  0  1  1  0  1  0  0  1  1\n",
       " 0  0  0  0  0  0  0  1  0  0  1  1  0  1  0  1  1  0  0  1  1  1  0  0\n",
       " 0  0  0  0  0  0  1  0  0  0  1  1  1  0  1  0  0  1  1  0  1  1  0  0\n",
       " 0  0  0  0  0  0  1  0  1  1  0  0  0  1  1  1  0  0  0  1  0  1  1  0\n",
       " 0  0  0  0  0  0  0  1  1  1  0  0  1  0  1  1  0  0  1  0  1  0  0  1\n",
       " 0  1  0  1  1  0  0  0  0  0  0  0  0  0  0  1  1  1  0  0  1  0  1  1\n",
       " 1  0  1  0  0  1  0  0  0  0  0  0  0  0  1  0  1  1  0  0  0  1  1  1\n",
       " 0  1  0  0  1  1  0  0  0  0  0  0  0  1  0  1  0  1  1  1  0  1  0  0\n",
       " 1  0  0  0  1  1  0  0  0  0  0  0  1  0  1  0  1  0  1  1  1  0  0  0\n",
       " 1  0  1  1  0  0  0  0  0  0  0  0  1  1  0  1  0  0  0  1  0  1  0  1\n",
       " 0  1  1  1  0  0  0  0  0  0  0  0  1  1  1  0  0  0  1  0  1  0  1  0\n",
       " 0  1  0  1  0  1  0  0  0  1  1  1  0  0  0  0  0  0  0  0  1  1  1  0\n",
       " 1  0  1  0  1  0  0  0  1  0  1  1  0  0  0  0  0  0  0  0  1  1  0  1\n",
       " 0  0  0  1  1  1  0  1  0  1  0  1  0  0  0  0  0  0  1  1  0  0  0  1\n",
       " 0  0  1  0  1  1  1  0  1  0  1  0  0  0  0  0  0  0  1  1  0  0  1  0\n",
       " 1  1  1  0  0  0  1  1  0  1  0  0  0  0  0  0  0  0  1  0  0  1  0  1\n",
       " 1  1  0  1  0  0  1  1  1  0  0  0  0  0  0  0  0  0  0  1  1  0  1  0\n",
       " 1  0  0  1  0  1  0  0  1  1  0  1  0  0  1  1  1  0  0  0  0  0  0  0\n",
       " 0  1  1  0  1  0  0  0  1  1  1  0  0  0  1  1  0  1  0  0  0  0  0  0\n",
       " 0  0  1  1  0  1  1  0  0  1  0  1  1  1  0  0  0  1  0  0  0  0  0  0\n",
       " 0  0  1  1  1  0  0  1  1  0  1  0  1  1  0  0  1  0  0  0  0  0  0  0\n",
       " 1  1  0  0  1  0  1  1  0  0  0  1  1  0  0  1  0  1  0  0  0  0  0  0\n",
       " 1  1  0  0  0  1  1  1  0  0  1  0  0  1  1  0  1  0  0  0  0  0  0  0"
      ]
     },
     "execution_count": 2,
     "metadata": {},
     "output_type": "execute_result"
    }
   ],
   "source": [
    "function disjoint(v1, v2)\n",
    "    iszero(v1 .== v2)\n",
    "end;\n",
    "\n",
    "const n = 2\n",
    "const N = n ^ 2\n",
    "\n",
    "const NDOKU_PERMS = collect(permutations(1:4))\n",
    "\n",
    "disjoint_adj_mtx = map( p -> disjoint(p...), Iterators.product(NDOKU_PERMS, NDOKU_PERMS))"
   ]
  }
 ],
 "metadata": {
  "kernelspec": {
   "display_name": "Julia 1.11.4",
   "language": "julia",
   "name": "julia-1.11"
  },
  "language_info": {
   "file_extension": ".jl",
   "mimetype": "application/julia",
   "name": "julia",
   "version": "1.11.4"
  }
 },
 "nbformat": 4,
 "nbformat_minor": 2
}