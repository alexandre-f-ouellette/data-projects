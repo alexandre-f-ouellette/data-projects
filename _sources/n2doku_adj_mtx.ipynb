{
 "cells": [
  {
   "cell_type": "markdown",
   "metadata": {},
   "source": [
    "# N2-Doku Adjacency Matrix\n",
    "\n",
    "## Description\n",
    "This book will serve as a place to generate and explore the adjacency matrix of permutations related to the 4x4 Shidoku puzzles."
   ]
  },
  {
   "cell_type": "code",
   "execution_count": 1,
   "metadata": {
    "tags": [
     "hide-input"
    ]
   },
   "outputs": [
    {
     "name": "stderr",
     "output_type": "stream",
     "text": [
      "\u001b[32m\u001b[1m  Activating\u001b[22m\u001b[39m project at `/mnt/raid/dev/data-projects/ndoku-julia/ndoku-julia`\n"
     ]
    }
   ],
   "source": [
    "import Pkg;\n",
    "Pkg.activate(\"ndoku-julia/\")\n",
    "\n",
    "using Combinatorics"
   ]
  },
  {
   "cell_type": "markdown",
   "metadata": {},
   "source": [
    "## Permutations of size N^2\n",
    "\n",
    "Every valid Ndoku board will be filled with numbers from 1 to 4, each of which appearing exactly once in each row, column and block. \n",
    "\n",
    "If we remove the block condition, we call such arrays Latin Squares. \n",
    "Ndokus are a subset of the Latin Squares with the block condition added. \n",
    "\n",
    "Any one of the digits being entered into the board in valid positions can be described by a single permutation of size 4. \n",
    "A given permutation `[1,2,3,4]` will map the digit into the `i`th row in the position of the perm's `i`th entry. \n",
    "\n",
    "For a Latin Square to be created, 4 permutations are needed, all of which are disjoint from one another. \n",
    "This can be represented as a graph, whose adjacency matrix maps the disjoint relationship between permutations. \n",
    "The Latin Squares are then the maximal cliques of this graph."
   ]
  },
  {
   "cell_type": "code",
   "execution_count": 2,
   "metadata": {
    "tags": [
     "hide-input"
    ]
   },
   "outputs": [
    {
     "data": {
      "text/plain": [
       "24×24 Matrix{Bool}:\n",
       " 0  0  0  0  0  0  0  1  0  1  1  0  0  1  0  0  1  1  1  0  0  0  1  1\n",
       " 0  0  0  0  0  0  1  0  1  0  0  1  1  0  0  0  1  1  0  1  0  0  1  1\n",
       " 0  0  0  0  0  0  0  1  0  0  1  1  0  1  0  1  1  0  0  1  1  1  0  0\n",
       " 0  0  0  0  0  0  1  0  0  0  1  1  1  0  1  0  0  1  1  0  1  1  0  0\n",
       " 0  0  0  0  0  0  1  0  1  1  0  0  0  1  1  1  0  0  0  1  0  1  1  0\n",
       " 0  0  0  0  0  0  0  1  1  1  0  0  1  0  1  1  0  0  1  0  1  0  0  1\n",
       " 0  1  0  1  1  0  0  0  0  0  0  0  0  0  0  1  1  1  0  0  1  0  1  1\n",
       " 1  0  1  0  0  1  0  0  0  0  0  0  0  0  1  0  1  1  0  0  0  1  1  1\n",
       " 0  1  0  0  1  1  0  0  0  0  0  0  0  1  0  1  0  1  1  1  0  1  0  0\n",
       " 1  0  0  0  1  1  0  0  0  0  0  0  1  0  1  0  1  0  1  1  1  0  0  0\n",
       " ⋮              ⋮              ⋮              ⋮              ⋮        \n",
       " 0  0  1  0  1  1  1  0  1  0  1  0  0  0  0  0  0  0  1  1  0  0  1  0\n",
       " 1  1  1  0  0  0  1  1  0  1  0  0  0  0  0  0  0  0  1  0  0  1  0  1\n",
       " 1  1  0  1  0  0  1  1  1  0  0  0  0  0  0  0  0  0  0  1  1  0  1  0\n",
       " 1  0  0  1  0  1  0  0  1  1  0  1  0  0  1  1  1  0  0  0  0  0  0  0\n",
       " 0  1  1  0  1  0  0  0  1  1  1  0  0  0  1  1  0  1  0  0  0  0  0  0\n",
       " 0  0  1  1  0  1  1  0  0  1  0  1  1  1  0  0  0  1  0  0  0  0  0  0\n",
       " 0  0  1  1  1  0  0  1  1  0  1  0  1  1  0  0  1  0  0  0  0  0  0  0\n",
       " 1  1  0  0  1  0  1  1  0  0  0  1  1  0  0  1  0  1  0  0  0  0  0  0\n",
       " 1  1  0  0  0  1  1  1  0  0  1  0  0  1  1  0  1  0  0  0  0  0  0  0"
      ]
     },
     "metadata": {},
     "output_type": "display_data"
    }
   ],
   "source": [
    "function disjoint(v1, v2)\n",
    "    iszero(v1 .== v2)\n",
    "end;\n",
    "\n",
    "const n = 2\n",
    "const N = n ^ 2\n",
    "\n",
    "const NDOKU_PERMS = collect(permutations(1:4))\n",
    "\n",
    "disjoint_adj_mtx = map( p -> disjoint(p...), Iterators.product(NDOKU_PERMS, NDOKU_PERMS))"
   ]
  }
 ],
 "metadata": {
  "kernelspec": {
   "display_name": "Julia 1.11.4",
   "language": "julia",
   "name": "julia-1.11"
  },
  "language_info": {
   "file_extension": ".jl",
   "mimetype": "application/julia",
   "name": "julia",
   "version": "1.11.4"
  }
 },
 "nbformat": 4,
 "nbformat_minor": 2
}
