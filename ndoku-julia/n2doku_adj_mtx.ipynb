{
 "cells": [
  {
   "cell_type": "markdown",
   "metadata": {},
   "source": [
    "# N2-Doku Adjacency Matrix\n",
    "\n",
    "## Description\n",
    "This book will serve as a place to generate and explore the adjacency matrix of permutations related to the 4x4 Shidoku puzzles."
   ]
  },
  {
   "cell_type": "code",
   "execution_count": 7,
   "metadata": {},
   "outputs": [],
   "source": [
    "import Pkg;\n",
    "Pkg.instantiate()\n",
    "\n",
    "using Combinatorics"
   ]
  },
  {
   "cell_type": "code",
   "execution_count": 9,
   "metadata": {},
   "outputs": [
    {
     "name": "stderr",
     "output_type": "stream",
     "text": [
      "WARNING: redefinition of constant Main.NDOKU_PERMS. This may fail, cause incorrect answers, or produce other errors.\n"
     ]
    },
    {
     "data": {
      "text/plain": [
       "24-element Vector{Vector{Int64}}:\n",
       " [1, 2, 3, 4]\n",
       " [1, 2, 4, 3]\n",
       " [1, 3, 2, 4]\n",
       " [1, 3, 4, 2]\n",
       " [1, 4, 2, 3]\n",
       " [1, 4, 3, 2]\n",
       " [2, 1, 3, 4]\n",
       " [2, 1, 4, 3]\n",
       " [2, 3, 1, 4]\n",
       " [2, 3, 4, 1]\n",
       " ⋮\n",
       " [3, 2, 4, 1]\n",
       " [3, 4, 1, 2]\n",
       " [3, 4, 2, 1]\n",
       " [4, 1, 2, 3]\n",
       " [4, 1, 3, 2]\n",
       " [4, 2, 1, 3]\n",
       " [4, 2, 3, 1]\n",
       " [4, 3, 1, 2]\n",
       " [4, 3, 2, 1]"
      ]
     },
     "metadata": {},
     "output_type": "display_data"
    }
   ],
   "source": [
    "const n = 2\n",
    "const N = n ^ 2\n",
    "\n",
    "const NDOKU_PERMS = collect(permutations(1:4))"
   ]
  },
  {
   "cell_type": "code",
   "execution_count": null,
   "metadata": {},
   "outputs": [
    {
     "data": {
      "text/plain": [
       "24×24 Matrix{Bool}:\n",
       " 0  0  0  0  0  0  0  1  0  1  1  0  0  1  0  0  1  1  1  0  0  0  1  1\n",
       " 0  0  0  0  0  0  1  0  1  0  0  1  1  0  0  0  1  1  0  1  0  0  1  1\n",
       " 0  0  0  0  0  0  0  1  0  0  1  1  0  1  0  1  1  0  0  1  1  1  0  0\n",
       " 0  0  0  0  0  0  1  0  0  0  1  1  1  0  1  0  0  1  1  0  1  1  0  0\n",
       " 0  0  0  0  0  0  1  0  1  1  0  0  0  1  1  1  0  0  0  1  0  1  1  0\n",
       " 0  0  0  0  0  0  0  1  1  1  0  0  1  0  1  1  0  0  1  0  1  0  0  1\n",
       " 0  1  0  1  1  0  0  0  0  0  0  0  0  0  0  1  1  1  0  0  1  0  1  1\n",
       " 1  0  1  0  0  1  0  0  0  0  0  0  0  0  1  0  1  1  0  0  0  1  1  1\n",
       " 0  1  0  0  1  1  0  0  0  0  0  0  0  1  0  1  0  1  1  1  0  1  0  0\n",
       " 1  0  0  0  1  1  0  0  0  0  0  0  1  0  1  0  1  0  1  1  1  0  0  0\n",
       " ⋮              ⋮              ⋮              ⋮              ⋮        \n",
       " 0  0  1  0  1  1  1  0  1  0  1  0  0  0  0  0  0  0  1  1  0  0  1  0\n",
       " 1  1  1  0  0  0  1  1  0  1  0  0  0  0  0  0  0  0  1  0  0  1  0  1\n",
       " 1  1  0  1  0  0  1  1  1  0  0  0  0  0  0  0  0  0  0  1  1  0  1  0\n",
       " 1  0  0  1  0  1  0  0  1  1  0  1  0  0  1  1  1  0  0  0  0  0  0  0\n",
       " 0  1  1  0  1  0  0  0  1  1  1  0  0  0  1  1  0  1  0  0  0  0  0  0\n",
       " 0  0  1  1  0  1  1  0  0  1  0  1  1  1  0  0  0  1  0  0  0  0  0  0\n",
       " 0  0  1  1  1  0  0  1  1  0  1  0  1  1  0  0  1  0  0  0  0  0  0  0\n",
       " 1  1  0  0  1  0  1  1  0  0  0  1  1  0  0  1  0  1  0  0  0  0  0  0\n",
       " 1  1  0  0  0  1  1  1  0  0  1  0  0  1  1  0  1  0  0  0  0  0  0  0"
      ]
     },
     "metadata": {},
     "output_type": "display_data"
    }
   ],
   "source": [
    "function disjoint(v1, v2)\n",
    "    iszero(v1 .== v2)\n",
    "end;\n",
    "\n",
    "disjoint_adj_mtx = map( p -> disjoint(p...), Iterators.product(NDOKU_PERMS, NDOKU_PERMS))"
   ]
  },
  {
   "cell_type": "code",
   "execution_count": null,
   "metadata": {},
   "outputs": [],
   "source": []
  }
 ],
 "metadata": {
  "kernelspec": {
   "display_name": "Julia 1.11.4",
   "language": "julia",
   "name": "julia-1.11"
  },
  "language_info": {
   "file_extension": ".jl",
   "mimetype": "application/julia",
   "name": "julia",
   "version": "1.11.4"
  }
 },
 "nbformat": 4,
 "nbformat_minor": 2
}
